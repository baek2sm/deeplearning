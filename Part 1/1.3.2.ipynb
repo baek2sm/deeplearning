{
 "cells": [
  {
   "cell_type": "code",
   "execution_count": 1,
   "id": "edd2669f",
   "metadata": {},
   "outputs": [],
   "source": [
    "# 판다스 라이브러리를 pd라는 별칭으로 불러옵니다.\n",
    "import pandas as pd"
   ]
  },
  {
   "cell_type": "code",
   "execution_count": 2,
   "id": "b7515b46",
   "metadata": {},
   "outputs": [
    {
     "name": "stdout",
     "output_type": "stream",
     "text": [
      "시리즈의 첫 5개 요소:\n",
      "0    10\n",
      "1    20\n",
      "2    30\n",
      "3    40\n",
      "4    50\n",
      "dtype: int64\n",
      "시리즈의 마지막 5개 요소:\n",
      "5     60\n",
      "6     70\n",
      "7     80\n",
      "8     90\n",
      "9    100\n",
      "dtype: int64\n"
     ]
    }
   ],
   "source": [
    "# 판다스 시리즈를 만듭니다.\n",
    "sr = pd.Series([10, 20, 30, 40, 50, 60, 70, 80, 90, 100])\n",
    "\n",
    "# 시리즈의 첫 5개 요소를 확인합니다.\n",
    "print('시리즈의 첫 5개 요소:\\n{}'.format(sr.head()))\n",
    "\n",
    "# 시리즈의 마지막 5개 요소를 확인합니다.\n",
    "print('시리즈의 마지막 5개 요소:\\n{}'.format(sr.tail()))"
   ]
  },
  {
   "cell_type": "code",
   "execution_count": 3,
   "id": "8d84f0cd",
   "metadata": {},
   "outputs": [
    {
     "name": "stdout",
     "output_type": "stream",
     "text": [
      "yesterday    12\n",
      "today         9\n",
      "tomorrow     14\n",
      "dtype: int64\n"
     ]
    }
   ],
   "source": [
    "# 가상의 날씨 정보를 담은 시리즈를 만듭니다.\n",
    "sr = pd.Series([12, 9, 14], index=['yesterday', 'today', 'tomorrow'])\n",
    "\n",
    "# 시리즈를 출력합니다.\n",
    "print(sr)"
   ]
  },
  {
   "cell_type": "code",
   "execution_count": 4,
   "id": "e566eeea",
   "metadata": {},
   "outputs": [
    {
     "name": "stdout",
     "output_type": "stream",
     "text": [
      "시리즈의 데이터 통계:\n",
      "count     3.000000\n",
      "mean     11.666667\n",
      "std       2.516611\n",
      "min       9.000000\n",
      "25%      10.500000\n",
      "50%      12.000000\n",
      "75%      13.000000\n",
      "max      14.000000\n",
      "dtype: float64\n"
     ]
    }
   ],
   "source": [
    "# 시리즈 데이터에 대한 간단한 통계 정보를 확인합니다.\n",
    "print('시리즈의 데이터 통계:\\n{}'.format(sr.describe()))"
   ]
  },
  {
   "cell_type": "code",
   "execution_count": 5,
   "id": "de7eb869",
   "metadata": {},
   "outputs": [
    {
     "name": "stdout",
     "output_type": "stream",
     "text": [
      "데이터 프레임의 첫 5개 요소:\n",
      "    0    1\n",
      "0  10   20\n",
      "1  30   40\n",
      "2  50   60\n",
      "3  70   80\n",
      "4  90  100\n"
     ]
    }
   ],
   "source": [
    "# 판다스 데이터 프레임을 만듭니다.\n",
    "df = pd.DataFrame([[10, 20], [30, 40], [50, 60], [70, 80], [90, 100]])\n",
    "\n",
    "# 데이터 프레임의 첫 5개 요소를 확인합니다.\n",
    "print('데이터 프레임의 첫 5개 요소:\\n{}'.format(df.head()))"
   ]
  },
  {
   "cell_type": "code",
   "execution_count": 6,
   "id": "61ffb6bc",
   "metadata": {},
   "outputs": [
    {
     "name": "stdout",
     "output_type": "stream",
     "text": [
      "   left  right\n",
      "0    10     20\n",
      "1    30     40\n",
      "2    50     60\n",
      "3    70     80\n",
      "4    90    100\n"
     ]
    }
   ],
   "source": [
    "# 데이터 프레임을 만듭니다.\n",
    "df = pd.DataFrame([[10, 20], [30, 40], [50, 60], [70, 80], [90, 100]],\n",
    "                 columns=['left', 'right'])\n",
    "\n",
    "# 데이터 프레임을 출력합니다.\n",
    "print(df)"
   ]
  },
  {
   "cell_type": "code",
   "execution_count": 7,
   "id": "bc58a657",
   "metadata": {},
   "outputs": [
    {
     "name": "stdout",
     "output_type": "stream",
     "text": [
      "0    10\n",
      "1    30\n",
      "2    50\n",
      "3    70\n",
      "4    90\n",
      "Name: left, dtype: int64\n"
     ]
    }
   ],
   "source": [
    "# 열 이름을 이용해 특정 열을 선택해 출력합니다.\n",
    "print(df['left'])"
   ]
  }
 ],
 "metadata": {
  "kernelspec": {
   "display_name": "Python 3",
   "language": "python",
   "name": "python3"
  },
  "language_info": {
   "codemirror_mode": {
    "name": "ipython",
    "version": 3
   },
   "file_extension": ".py",
   "mimetype": "text/x-python",
   "name": "python",
   "nbconvert_exporter": "python",
   "pygments_lexer": "ipython3",
   "version": "3.6.9"
  }
 },
 "nbformat": 4,
 "nbformat_minor": 5
}
