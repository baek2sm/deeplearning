{
 "cells": [
  {
   "cell_type": "code",
   "execution_count": 1,
   "id": "e4f2b4e3",
   "metadata": {},
   "outputs": [],
   "source": [
    "# 넘파이 라이브러리를 np라는 별칭으로 불러옵니다.\n",
    "import numpy as np"
   ]
  },
  {
   "cell_type": "code",
   "execution_count": 2,
   "id": "27b6fa93",
   "metadata": {},
   "outputs": [
    {
     "name": "stdout",
     "output_type": "stream",
     "text": [
      "넘파이 배열: [1 3 5 7]\n"
     ]
    }
   ],
   "source": [
    "# 넘파이 배열을 만듭니다.\n",
    "arr = np.array([1, 3, 5, 7])\n",
    "\n",
    "# 넘파이 배열을 출력합니다.\n",
    "print('넘파이 배열: {}'.format(arr))"
   ]
  },
  {
   "cell_type": "code",
   "execution_count": 3,
   "id": "41d4e64b",
   "metadata": {},
   "outputs": [
    {
     "name": "stdout",
     "output_type": "stream",
     "text": [
      "배열 형태: (4,)\n",
      "데이터 타입: <class 'numpy.ndarray'>\n"
     ]
    }
   ],
   "source": [
    "# 넘파이 배열의 형태를 출력합니다.\n",
    "print('배열 형태: {}'.format(arr.shape))\n",
    "\n",
    "# 넘파이 배열의 데이터 타입을 출력합니다.\n",
    "print('데이터 타입: {}'.format(type(arr)))"
   ]
  },
  {
   "cell_type": "code",
   "execution_count": 4,
   "id": "16c8a682",
   "metadata": {},
   "outputs": [
    {
     "name": "stdout",
     "output_type": "stream",
     "text": [
      "배열 요소의 데이터 타입: int64\n"
     ]
    }
   ],
   "source": [
    "# 넘파이 배열이 가진 요소의 데이터 타입을 출력합니다.\n",
    "print('배열 요소의 데이터 타입: {}'.format(arr.dtype))"
   ]
  },
  {
   "cell_type": "code",
   "execution_count": 5,
   "id": "fe73b5e6",
   "metadata": {},
   "outputs": [
    {
     "name": "stdout",
     "output_type": "stream",
     "text": [
      "넘파이 배열:\n",
      "[[1 3 5 7]\n",
      " [1 2 3 4]]\n"
     ]
    }
   ],
   "source": [
    "# 2차원 넘파이 배열을 생성합니다.\n",
    "arr = np.array([[1, 3, 5, 7], [1, 2, 3, 4]])\n",
    "\n",
    "# 2차원 넘파이 배열을 출력합니다.\n",
    "print('넘파이 배열:\\n{}'.format(arr))"
   ]
  },
  {
   "cell_type": "code",
   "execution_count": 6,
   "id": "81feef18",
   "metadata": {},
   "outputs": [
    {
     "name": "stdout",
     "output_type": "stream",
     "text": [
      "배열 형태: (2, 4)\n"
     ]
    }
   ],
   "source": [
    "# 2차원 넘파이 배열의 형태를 출력합니다.\n",
    "print('배열 형태: {}'.format(arr.shape))"
   ]
  },
  {
   "cell_type": "code",
   "execution_count": 7,
   "id": "4e9ecb2d",
   "metadata": {},
   "outputs": [
    {
     "name": "stdout",
     "output_type": "stream",
     "text": [
      "넘파이 배열:\n",
      "[[0. 0. 0.]\n",
      " [0. 0. 0.]\n",
      " [0. 0. 0.]]\n"
     ]
    }
   ],
   "source": [
    "# 모든 요솟값이 0인 3행 3열의 2차원 넘파이 배열을 생성합니다.\n",
    "arr= np.zeros((3, 3))\n",
    "\n",
    "# 2차원 넘파이 배열을 출력합니다.\n",
    "print('넘파이 배열:\\n{}'.format(arr))"
   ]
  },
  {
   "cell_type": "code",
   "execution_count": 8,
   "id": "b88b2ea2",
   "metadata": {},
   "outputs": [
    {
     "name": "stdout",
     "output_type": "stream",
     "text": [
      "넘파이 배열:\n",
      "[[1. 1. 1. 1.]\n",
      " [1. 1. 1. 1.]]\n"
     ]
    }
   ],
   "source": [
    "# 모든 요솟값이 1인 2행 4열의 2차원 넘파이 배열을 생성합니다.\n",
    "arr= np.ones((2, 4))\n",
    "\n",
    "# 2차원 넘파이 배열을 출력합니다.\n",
    "print('넘파이 배열:\\n{}'.format(arr))"
   ]
  },
  {
   "cell_type": "code",
   "execution_count": 9,
   "id": "720eb34c",
   "metadata": {},
   "outputs": [
    {
     "name": "stdout",
     "output_type": "stream",
     "text": [
      "넘파이 배열:\n",
      "[[0.71359055 0.01865924 0.98444448 0.68772985]\n",
      " [0.54869391 0.78491826 0.19257496 0.72071045]]\n"
     ]
    }
   ],
   "source": [
    "# 무작위로 0과 1 사이의 실수를 요소로 갖는 2행 4열의 2차원 넘파이 배열을 생성합니다.\n",
    "arr = np.random.rand(2, 4)\n",
    "\n",
    "# 2차원 넘파이 배열을 출력합니다.\n",
    "print('넘파이 배열:\\n{}'.format(arr))"
   ]
  },
  {
   "cell_type": "code",
   "execution_count": 10,
   "id": "cc8e897d",
   "metadata": {},
   "outputs": [
    {
     "name": "stdout",
     "output_type": "stream",
     "text": [
      "넘파이 배열:\n",
      "[[6 9 7 6]\n",
      " [9 8 9 7]]\n"
     ]
    }
   ],
   "source": [
    "# 무작위로 5와 10 사이의 정수를 요소로 갖는 2행 4열의 2차원 넘파이 배열을 생성합니다.\n",
    "arr = np.random.randint(5, 10, size=(2, 4))\n",
    "\n",
    "# 2차원 넘파이 배열을 출력합니다.\n",
    "print('넘파이 배열:\\n{}'.format(arr))"
   ]
  },
  {
   "cell_type": "code",
   "execution_count": 11,
   "id": "20dce184",
   "metadata": {},
   "outputs": [
    {
     "name": "stdout",
     "output_type": "stream",
     "text": [
      "넘파이 배열1:\n",
      "[1 2 3 4 5 6 7 8 9]\n",
      "넘파이 배열2:\n",
      "[0.1 0.2 0.3 0.4 0.5 0.6 0.7 0.8 0.9]\n"
     ]
    }
   ],
   "source": [
    "# 일정한 간격의 정숫값을 갖는 넘파이 배열을 생성합니다.\n",
    "arr1 = np.arange(1, 10, 1)\n",
    "\n",
    "# 생성된 넘파이 배열을 출력합니다.\n",
    "print('넘파이 배열1:\\n{}'.format(arr1))\n",
    "\n",
    "# 일정한 간격의 실숫값을 갖는 넘파이 배열을 생성합니다.\n",
    "arr2 = np.arange(0.1, 1, 0.1)\n",
    "\n",
    "# 생성된 넘파이 배열을 출력합니다.\n",
    "print('넘파이 배열2:\\n{}'.format(arr2))"
   ]
  },
  {
   "cell_type": "code",
   "execution_count": 12,
   "id": "48df81a4",
   "metadata": {},
   "outputs": [
    {
     "name": "stdout",
     "output_type": "stream",
     "text": [
      "파이썬 리스트 곱셈 연산 결과: [1, 2, 3, 4, 1, 2, 3, 4]\n",
      "넘파이 배열 곱셈 연산 결과: [2 4 6 8]\n"
     ]
    }
   ],
   "source": [
    "# 파이썬 리스트를 만듭니다.\n",
    "list_data = [1, 2, 3, 4]\n",
    "\n",
    "# 넘파이 배열을 만듭니다.\n",
    "array_data = np.array([1, 2, 3, 4])\n",
    "\n",
    "# 파이썬 리스트와 넘파이 배열에 각각 곱셈 연산을 적용한 결과를 출력합니다.\n",
    "print('파이썬 리스트 곱셈 연산 결과: {}'.format(list_data * 2))\n",
    "print('넘파이 배열 곱셈 연산 결과: {}'.format(array_data * 2))"
   ]
  },
  {
   "cell_type": "code",
   "execution_count": 13,
   "id": "acdce849",
   "metadata": {},
   "outputs": [
    {
     "name": "stdout",
     "output_type": "stream",
     "text": [
      "마스크 정보: [False False  True  True]\n",
      "마스크를 이용해 필터링 된 배열: [3 4]\n"
     ]
    }
   ],
   "source": [
    "# 넘파이 배열을 만듭니다.\n",
    "array_data = np.array([1, 2, 3, 4])\n",
    "\n",
    "# 조건에 해당하는 마스크를 만듭니다.\n",
    "array_mask = array_data > 2\n",
    "\n",
    "# 마스크를 이용해 넘파이 배열에서 원하는 값만 추출합니다.\n",
    "filtered_array = array_data[array_mask]\n",
    "\n",
    "# 마스크와 마스크를 이용해 필터링 된 배열 정보를 출력합니다.\n",
    "print('마스크 정보: {}'.format(array_mask))\n",
    "print('마스크를 이용해 필터링 된 배열: {}'.format(filtered_array))"
   ]
  }
 ],
 "metadata": {
  "kernelspec": {
   "display_name": "Python 3",
   "language": "python",
   "name": "python3"
  },
  "language_info": {
   "codemirror_mode": {
    "name": "ipython",
    "version": 3
   },
   "file_extension": ".py",
   "mimetype": "text/x-python",
   "name": "python",
   "nbconvert_exporter": "python",
   "pygments_lexer": "ipython3",
   "version": "3.6.9"
  }
 },
 "nbformat": 4,
 "nbformat_minor": 5
}
