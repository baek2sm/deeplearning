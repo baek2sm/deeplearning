{
 "cells": [
  {
   "cell_type": "code",
   "execution_count": 1,
   "id": "8013ec91",
   "metadata": {},
   "outputs": [],
   "source": [
    "# 실습에 필요한 라이브러리를 불러옵니다.\n",
    "from sklearn import datasets\n",
    "from torch.utils.data import TensorDataset, DataLoader\n",
    "import torch\n",
    "import torch.nn as nn\n",
    "import torch.optim as optim"
   ]
  },
  {
   "cell_type": "code",
   "execution_count": 2,
   "id": "a6a8ce3b",
   "metadata": {},
   "outputs": [],
   "source": [
    "# 사이킷런에서 유방암 진단 데이터세트를 불러옵니다.\n",
    "dataset = datasets.load_breast_cancer()\n",
    "\n",
    "# 입력 데이터와 타깃을 준비합니다.\n",
    "X, y = dataset['data'], dataset['target']\n",
    "\n",
    "# 입력 데이터와 타깃을 텐서 자료구조로 변환합니다.\n",
    "X = torch.FloatTensor(X)\n",
    "y = torch.FloatTensor(y).view(-1, 1)\n",
    "\n",
    "# 데이터 범위 조정을 위해 표준화를 적용합니다.\n",
    "X = (X - torch.mean(X)) / torch.std(X)"
   ]
  },
  {
   "cell_type": "code",
   "execution_count": 3,
   "id": "7b26a9b2",
   "metadata": {},
   "outputs": [],
   "source": [
    "# 입력 데이터와 타깃을 묶어 텐서 데이터세트를 생성합니다.\n",
    "dset = TensorDataset(X, y)\n",
    "\n",
    "# 한 번에 256개의 데이터 샘플을 배치로 사용하는 데이터로더를 생성합니다.\n",
    "loader = DataLoader(dset, batch_size=256, shuffle=True)"
   ]
  },
  {
   "cell_type": "code",
   "execution_count": 4,
   "id": "416426dc",
   "metadata": {},
   "outputs": [],
   "source": [
    "# n개의 값을 입력받는 신경망 모델 클래스를 정의합니다.\n",
    "class NeuralNetwork(nn.Module):\n",
    "    # 생성자에서 모델의 구조를 정의합니다. \n",
    "    def __init__(self, num_features):\n",
    "        # 상속받아 생성한 객체이므로 부모(nn.Module)의 생성자를 호출합니다.\n",
    "        super().__init__()\n",
    "        # num_features개의 특성을 입력받는 은닉층 노드를 4개 생성합니다.\n",
    "        self.linear1 = nn.Linear(num_features, 4)\n",
    "        # 렐루 함수 객체를 생성합니다.\n",
    "        self.relu = nn.ReLU()\n",
    "        # 4개의 값을 입력받는 출력층 노드 1개를 생성합니다.\n",
    "        self.linear2 = nn.Linear(4, 1)\n",
    "        # 시그모이드 함수 객체를 생성합니다.\n",
    "        self.sigmoid = nn.Sigmoid()\n",
    "\n",
    "    # 모델의 순전파를 정의합니다.\n",
    "    def forward(self, X):\n",
    "        # 생성자에서 만든 은닉층과 출력층 노드로 타깃을 추론하고 반환합니다.\n",
    "        out = self.linear1(X)\n",
    "        out = self.relu(out)\n",
    "        out = self.linear2(out)\n",
    "        out = self.sigmoid(out)\n",
    "        return out"
   ]
  },
  {
   "cell_type": "code",
   "execution_count": 5,
   "id": "b2758ba4",
   "metadata": {},
   "outputs": [],
   "source": [
    "# 30개의 특성값을 입력받는 신경망 모델 객체를 생성합니다.\n",
    "model = NeuralNetwork(30)\n",
    "\n",
    "# 이진 크로스 엔트로피(Binary Cross Entropy) 손실 함수 객체를 생성합니다.\n",
    "criterion = nn.BCELoss()\n",
    "\n",
    "# 확률적 경사 하강법 옵티마이저 객체를 생성합니다.\n",
    "optimizer = optim.SGD(model.parameters(), lr=0.1)"
   ]
  },
  {
   "cell_type": "code",
   "execution_count": 6,
   "id": "239bc0db",
   "metadata": {},
   "outputs": [],
   "source": [
    "# 학습 함수를 정의합니다.\n",
    "def train(model, criterion, optimizer, loader):\n",
    "  # 현재 에포크의 오차를 저장할 변수를 생성합니다.\n",
    "  epoch_loss = 0\n",
    "\n",
    "  # 배치 학습을 실행합니다.\n",
    "  for X_batch, y_batch in loader:    \n",
    "    # 기울기를 초기화합니다.\n",
    "    optimizer.zero_grad()\n",
    "    # 모델을 사용해 타깃을 추론합니다.\n",
    "    hypothesis = model(X_batch)\n",
    "    # 손실 함수로 오차를 계산합니다.\n",
    "    loss = criterion(hypothesis, y_batch)        \n",
    "    # 기울기를 계산합니다.\n",
    "    loss.backward()\n",
    "    # 경사 하강법으로 가중치를 수정합니다.\n",
    "    optimizer.step()\n",
    "    # 현재 배치의 오차를 기록합니다.\n",
    "    epoch_loss += loss.item()\n",
    "\n",
    "  # 현재 에포크의 오차를 반환합니다.\n",
    "  return epoch_loss / len(loader)"
   ]
  },
  {
   "cell_type": "code",
   "execution_count": 7,
   "id": "2ed5e7cd",
   "metadata": {},
   "outputs": [
    {
     "name": "stdout",
     "output_type": "stream",
     "text": [
      "epoch: 10, loss: 0.6452\n",
      "epoch: 20, loss: 0.4683\n",
      "epoch: 30, loss: 0.3233\n",
      "epoch: 40, loss: 0.2645\n",
      "epoch: 50, loss: 0.2410\n",
      "epoch: 60, loss: 0.2031\n",
      "epoch: 70, loss: 0.2223\n",
      "epoch: 80, loss: 0.2264\n",
      "epoch: 90, loss: 0.1946\n",
      "epoch: 100, loss: 0.2030\n"
     ]
    }
   ],
   "source": [
    "# 100회에 걸쳐 모델을 학습시킵니다.\n",
    "n_epochs = 100\n",
    "for epoch in range(1, n_epochs+1):\n",
    "  # 모델을 학습시킵니다.\n",
    "  loss = train(model, criterion, optimizer, loader)  \n",
    "  # 10 에포크마다 오차를 출력합니다.\n",
    "  if epoch % 10 == 0:\n",
    "    print('epoch: {}, loss: {:.4f}'.format(epoch, loss))"
   ]
  },
  {
   "cell_type": "code",
   "execution_count": 8,
   "id": "f212c232",
   "metadata": {},
   "outputs": [
    {
     "name": "stdout",
     "output_type": "stream",
     "text": [
      "accuracy: 0.92\n"
     ]
    }
   ],
   "source": [
    "# 학습된 모델을 사용해 결과를 추론합니다.\n",
    "y_predicted = (model(X) >= 0.5).float()\n",
    "\n",
    "# 정확도를 계산하고 출력합니다.\n",
    "score = (y_predicted==y).float().mean()\n",
    "print('accuracy: {:.2f}'.format(score))"
   ]
  }
 ],
 "metadata": {
  "kernelspec": {
   "display_name": "Python 3",
   "language": "python",
   "name": "python3"
  },
  "language_info": {
   "codemirror_mode": {
    "name": "ipython",
    "version": 3
   },
   "file_extension": ".py",
   "mimetype": "text/x-python",
   "name": "python",
   "nbconvert_exporter": "python",
   "pygments_lexer": "ipython3",
   "version": "3.6.9"
  }
 },
 "nbformat": 4,
 "nbformat_minor": 5
}
