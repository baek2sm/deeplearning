{
 "cells": [
  {
   "cell_type": "code",
   "execution_count": 1,
   "id": "7bd67354",
   "metadata": {
    "id": "7bd67354"
   },
   "outputs": [],
   "source": [
    "# 실습에 필요한 라이브러리를 불러옵니다.\n",
    "from torchvision import datasets\n",
    "from torch.utils.data import TensorDataset, DataLoader\n",
    "import torch\n",
    "import torch.nn as nn\n",
    "import torch.optim as optim"
   ]
  },
  {
   "cell_type": "code",
   "execution_count": 2,
   "id": "86600e7e",
   "metadata": {
    "colab": {
     "base_uri": "https://localhost:8080/"
    },
    "id": "86600e7e",
    "outputId": "a27c6dc9-4904-4d52-abd4-0b5bdc8a58ae"
   },
   "outputs": [
    {
     "name": "stderr",
     "output_type": "stream",
     "text": [
      "Cloning into 'ml'...\n",
      "x MNIST/\n",
      "x MNIST/raw/\n",
      "x MNIST/raw/train-labels-idx1-ubyte\n",
      "x MNIST/raw/t10k-labels-idx1-ubyte.gz\n",
      "x MNIST/raw/t10k-labels-idx1-ubyte\n",
      "x MNIST/raw/t10k-images-idx3-ubyte.gz\n",
      "x MNIST/raw/train-images-idx3-ubyte\n",
      "x MNIST/raw/train-labels-idx1-ubyte.gz\n",
      "x MNIST/raw/t10k-images-idx3-ubyte\n",
      "x MNIST/raw/train-images-idx3-ubyte.gz\n",
      "x MNIST/processed/\n",
      "x MNIST/processed/training.pt\n",
      "x MNIST/processed/test.pt\n"
     ]
    }
   ],
   "source": [
    "# github에서 MNIST DATASET 다운로드\n",
    "!git clone https://github.com/baek2sm/ml.git\n",
    "!tar -zxvf ./ml/datasets/MNIST.tar.gz\n",
    "\n",
    "# 현재 경로에 MNIST 학습 세트와 테스트 세트를 불러옵니다.\n",
    "path = './'\n",
    "train_dataset = datasets.MNIST(path, train=True, download=True)\n",
    "test_dataset = datasets.MNIST(path, train=False, download=True)"
   ]
  },
  {
   "cell_type": "code",
   "execution_count": 3,
   "id": "e80430bc",
   "metadata": {
    "id": "e80430bc"
   },
   "outputs": [],
   "source": [
    "# 학습 세트와 테스트 세트의 입력 데이터와 타깃을 준비합니다.\n",
    "X_train, y_train = train_dataset.data / 255, train_dataset.targets\n",
    "X_test, y_test = test_dataset.data / 255, test_dataset.targets"
   ]
  },
  {
   "cell_type": "code",
   "execution_count": 4,
   "id": "ba434567",
   "metadata": {
    "colab": {
     "base_uri": "https://localhost:8080/"
    },
    "id": "ba434567",
    "outputId": "55c8ffdf-39de-45c1-b1de-f0d313cda098"
   },
   "outputs": [
    {
     "name": "stdout",
     "output_type": "stream",
     "text": [
      "학습 세트 입력 데이터: torch.Size([60000, 28, 28])\n",
      "학습 세트 타깃: torch.Size([60000])\n",
      "테스트 세트 입력 데이터: torch.Size([10000, 28, 28])\n",
      "테스트 세트 타깃: torch.Size([10000])\n"
     ]
    }
   ],
   "source": [
    "# 학습 세트와 테스트 세트의 데이터 형태를 확인합니다.\n",
    "print('학습 세트 입력 데이터:', X_train.shape)\n",
    "print('학습 세트 타깃:', y_train.shape)\n",
    "print('테스트 세트 입력 데이터:', X_test.shape)\n",
    "print('테스트 세트 타깃:', y_test.shape)"
   ]
  },
  {
   "cell_type": "code",
   "execution_count": 5,
   "id": "28502197",
   "metadata": {
    "colab": {
     "base_uri": "https://localhost:8080/"
    },
    "id": "28502197",
    "outputId": "fe487847-a95c-4171-f0f0-ce7fe583a345"
   },
   "outputs": [
    {
     "name": "stdout",
     "output_type": "stream",
     "text": [
      "학습 세트 입력 데이터: torch.Size([60000, 784])\n",
      "테스트 세트 입력 데이터: torch.Size([10000, 784])\n"
     ]
    }
   ],
   "source": [
    "# 2차원 배열을 1차원 배열로 변환합니다.\n",
    "X_train, X_test = X_train.view(-1, 784), X_test.view(-1, 784)\n",
    "\n",
    "# 학습 세트와 테스트 세트의 입력 데이터 형태를 확인합니다.\n",
    "print('학습 세트 입력 데이터:', X_train.shape)\n",
    "print('테스트 세트 입력 데이터:', X_test.shape)"
   ]
  },
  {
   "cell_type": "code",
   "execution_count": 6,
   "id": "f547fe82",
   "metadata": {
    "id": "f547fe82"
   },
   "outputs": [],
   "source": [
    "# 입력 데이터와 타깃을 묶어 텐서 데이터세트를 생성합니다.\n",
    "train_dset = TensorDataset(X_train, y_train)\n",
    "test_dset = TensorDataset(X_test, y_test)\n",
    "\n",
    "# 한 번에 128개의 데이터 샘플을 배치로 사용하는 데이터로더를 생성합니다.\n",
    "train_loader = DataLoader(train_dset, batch_size=32, shuffle=True)\n",
    "test_loader = DataLoader(test_dset, batch_size=32, shuffle=False)"
   ]
  },
  {
   "cell_type": "code",
   "execution_count": 7,
   "id": "ab6c6050",
   "metadata": {
    "id": "ab6c6050"
   },
   "outputs": [],
   "source": [
    "# n개의 값을 입력받는 DNN 모델 클래스를 정의합니다.\n",
    "class DNN(nn.Module):\n",
    "  # 생성자에서 모델의 구조를 정의합니다. \n",
    "  def __init__(self, num_features):\n",
    "    # 상속받아 생성한 객체이므로 부모(nn.Module)의 생성자를 호출합니다.\n",
    "    super().__init__()\n",
    "    # 첫 번째 은닉층을 정의합니다.\n",
    "    self.hidden_layer1 = nn.Sequential(\n",
    "      nn.Linear(num_features, 256),\n",
    "      nn.ReLU()\n",
    "    )\n",
    "    # 두 번째 은닉층을 정의합니다.\n",
    "    self.hidden_layer2 = nn.Sequential(\n",
    "        nn.Linear(256, 128),\n",
    "        nn.ReLU()\n",
    "    )\n",
    "    # 출력층을 정의합니다.\n",
    "    self.output_layer = nn.Linear(128, 10) \n",
    "\n",
    "  # 모델의 순전파를 정의합니다.\n",
    "  def forward(self, X):\n",
    "    # 생성자에서 만든 은닉층과 출력층 노드로 타깃을 추론하고 반환합니다.\n",
    "    out = self.hidden_layer1(X)\n",
    "    out = self.hidden_layer2(out)\n",
    "    out = self.output_layer(out)\n",
    "    return out"
   ]
  },
  {
   "cell_type": "code",
   "execution_count": 8,
   "id": "911897ea",
   "metadata": {
    "id": "911897ea"
   },
   "outputs": [],
   "source": [
    "# 그래픽카드 사용이 가능할 경우 그래픽카드로 연산하도록 설정합니다.\n",
    "device = 'cuda' if torch.cuda.is_available() else 'cpu'\n",
    "\n",
    "# 784개의 값을 입력받는 로지스틱 회귀 모델 객체를 생성합니다.\n",
    "model = DNN(784).to(device)\n",
    "\n",
    "# 크로스 엔트로피(Cross Entropy) 손실 함수 객체를 생성합니다.\n",
    "criterion = nn.CrossEntropyLoss()\n",
    "\n",
    "# 아담 옵티마이저 객체를 생성합니다.\n",
    "optimizer = optim.Adam(model.parameters(), lr=0.0001)"
   ]
  },
  {
   "cell_type": "code",
   "execution_count": 9,
   "id": "b68db9be",
   "metadata": {
    "id": "b68db9be"
   },
   "outputs": [],
   "source": [
    "# 학습 함수를 정의합니다.\n",
    "def train(model, criterion, optimizer, loader):\n",
    "  # 현재 에포크의 오차와 정확도를 저장할 변수를 생성합니다.\n",
    "  epoch_loss = 0\n",
    "  epoch_acc = 0\n",
    "\n",
    "  # 배치 학습을 실행합니다.\n",
    "  for X_batch, y_batch in loader:\n",
    "    # 입력 데이터와 타깃의 배치를 그래픽 카드로 연산하도록 설정합니다.\n",
    "    X_batch, y_batch = X_batch.to(device), y_batch.to(device)\n",
    "    # 기울기를 초기화합니다.\n",
    "    optimizer.zero_grad()\n",
    "    # 모델을 사용해 타깃을 추론합니다.\n",
    "    hypothesis = model(X_batch)\n",
    "    # 손실 함수로 오차를 계산합니다.\n",
    "    loss = criterion(hypothesis, y_batch)        \n",
    "    # 기울기를 계산합니다.\n",
    "    loss.backward()\n",
    "    # 경사 하강법으로 가중치를 수정합니다.\n",
    "    optimizer.step()\n",
    "    # 정확도를 계산합니다.\n",
    "    y_predicted = torch.argmax(hypothesis, 1)\n",
    "    acc = (y_predicted == y_batch).float().mean()\n",
    "    # 현재 배치의 오차와 정확도를 저장합니다.\n",
    "    epoch_loss += loss.item()\n",
    "    epoch_acc += acc.item()\n",
    "\n",
    "  # 현재 에포크의 오차와 정확도를 반환합니다.\n",
    "  return epoch_loss / len(loader), epoch_acc / len(loader)"
   ]
  },
  {
   "cell_type": "code",
   "execution_count": 10,
   "id": "26f17417",
   "metadata": {
    "id": "26f17417"
   },
   "outputs": [],
   "source": [
    "# 평가 함수를 정의합니다.\n",
    "def evaluate(model, criterion, loader):\n",
    "  # 현재 에포크의 오차와 정확도를 저장할 변수를 생성합니다.\n",
    "  epoch_loss = 0\n",
    "  epoch_acc = 0\n",
    "\n",
    "  with torch.no_grad():\n",
    "    # 배치 단위로 추론을 실행합니다.\n",
    "    for X_batch, y_batch in loader:\n",
    "      # 입력 데이터와 타깃의 배치를 그래픽 카드로 연산하도록 설정합니다.\n",
    "      X_batch, y_batch = X_batch.to(device), y_batch.to(device)\n",
    "      # 모델을 사용해 타깃을 추론합니다.\n",
    "      hypothesis = model(X_batch)\n",
    "      # 손실 함수로 오차를 계산합니다.\n",
    "      loss = criterion(hypothesis, y_batch)\n",
    "      # 정확도를 계산합니다.\n",
    "      y_predicted = torch.argmax(hypothesis, 1)\n",
    "      acc = (y_predicted == y_batch).float().mean()\n",
    "      # 현재 배치의 오차와 정확도를 저장합니다.\n",
    "      epoch_loss += loss.item()\n",
    "      epoch_acc += acc.item()\n",
    "\n",
    "    # 현재 에포크의 오차와 정확도를 반환합니다.\n",
    "    return epoch_loss / len(loader), epoch_acc / len(loader)"
   ]
  },
  {
   "cell_type": "code",
   "execution_count": 11,
   "id": "5d7265cf",
   "metadata": {
    "colab": {
     "base_uri": "https://localhost:8080/"
    },
    "id": "5d7265cf",
    "outputId": "3c7ddfd6-0276-47a5-f80c-ea3e4fa9dda4"
   },
   "outputs": [
    {
     "name": "stdout",
     "output_type": "stream",
     "text": [
      "epoch: 1, loss: 0.560, acc: 0.86, test_loss: 0.282, test_acc: 0.921\n",
      "epoch: 2, loss: 0.262, acc: 0.93, test_loss: 0.232, test_acc: 0.931\n",
      "epoch: 3, loss: 0.209, acc: 0.94, test_loss: 0.182, test_acc: 0.946\n",
      "epoch: 4, loss: 0.170, acc: 0.95, test_loss: 0.152, test_acc: 0.955\n",
      "epoch: 5, loss: 0.141, acc: 0.96, test_loss: 0.132, test_acc: 0.960\n",
      "epoch: 6, loss: 0.119, acc: 0.97, test_loss: 0.114, test_acc: 0.965\n",
      "epoch: 7, loss: 0.103, acc: 0.97, test_loss: 0.107, test_acc: 0.967\n",
      "epoch: 8, loss: 0.089, acc: 0.97, test_loss: 0.094, test_acc: 0.970\n",
      "epoch: 9, loss: 0.078, acc: 0.98, test_loss: 0.092, test_acc: 0.972\n",
      "epoch: 10, loss: 0.068, acc: 0.98, test_loss: 0.083, test_acc: 0.975\n",
      "epoch: 11, loss: 0.061, acc: 0.98, test_loss: 0.082, test_acc: 0.975\n",
      "epoch: 12, loss: 0.054, acc: 0.98, test_loss: 0.075, test_acc: 0.978\n",
      "epoch: 13, loss: 0.048, acc: 0.99, test_loss: 0.076, test_acc: 0.976\n",
      "epoch: 14, loss: 0.042, acc: 0.99, test_loss: 0.072, test_acc: 0.978\n",
      "epoch: 15, loss: 0.038, acc: 0.99, test_loss: 0.070, test_acc: 0.978\n",
      "epoch: 16, loss: 0.033, acc: 0.99, test_loss: 0.076, test_acc: 0.976\n",
      "epoch: 17, loss: 0.030, acc: 0.99, test_loss: 0.069, test_acc: 0.979\n",
      "epoch: 18, loss: 0.026, acc: 0.99, test_loss: 0.066, test_acc: 0.980\n",
      "epoch: 19, loss: 0.023, acc: 0.99, test_loss: 0.065, test_acc: 0.981\n",
      "epoch: 20, loss: 0.020, acc: 1.00, test_loss: 0.069, test_acc: 0.979\n"
     ]
    }
   ],
   "source": [
    "# 20회에 걸쳐 모델을 학습시킵니다.\n",
    "n_epochs = 20\n",
    "for epoch in range(1, n_epochs+1):\n",
    "  # 모델을 학습시킵니다.\n",
    "  loss, acc = train(model, criterion, optimizer, train_loader)\n",
    "\n",
    "  # 모델을 평가합니다.\n",
    "  test_loss, test_acc = evaluate(model, criterion, test_loader)\n",
    "\n",
    "  # 현재 에포크의 학습 결과를 출력합니다.\n",
    "  print('epoch: {}, loss: {:.3f}, acc: {:.2f}, test_loss: {:.3f}, test_acc: {:.3f}'.format(\n",
    "         epoch, loss, acc, test_loss, test_acc))"
   ]
  }
 ],
 "metadata": {
  "accelerator": "GPU",
  "colab": {
   "collapsed_sections": [],
   "name": "3.3.1.ipynb",
   "provenance": []
  },
  "kernelspec": {
   "display_name": "Python 3",
   "language": "python",
   "name": "python3"
  },
  "language_info": {
   "codemirror_mode": {
    "name": "ipython",
    "version": 3
   },
   "file_extension": ".py",
   "mimetype": "text/x-python",
   "name": "python",
   "nbconvert_exporter": "python",
   "pygments_lexer": "ipython3",
   "version": "3.7.10"
  }
 },
 "nbformat": 4,
 "nbformat_minor": 5
}
