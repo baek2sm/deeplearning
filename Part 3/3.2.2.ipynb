{
 "cells": [
  {
   "cell_type": "code",
   "execution_count": 1,
   "id": "576488d8",
   "metadata": {},
   "outputs": [],
   "source": [
    "# 실습에 필요한 라이브러리를 불러옵니다.\n",
    "from sklearn import datasets\n",
    "import torch\n",
    "import torch.nn as nn\n",
    "import torch.optim as optim"
   ]
  },
  {
   "cell_type": "code",
   "execution_count": 2,
   "id": "6ec65b54",
   "metadata": {},
   "outputs": [],
   "source": [
    "# 사이킷런에서 유방암 진단 데이터세트를 불러옵니다.\n",
    "dataset = datasets.load_breast_cancer()\n",
    "\n",
    "# 입력 데이터와 타깃을 준비합니다.\n",
    "X, y = dataset['data'], dataset['target']\n",
    "\n",
    "# 입력 데이터와 타깃을 텐서 자료구조로 변환합니다.\n",
    "X = torch.FloatTensor(X)\n",
    "y = torch.FloatTensor(y).view(-1, 1)"
   ]
  },
  {
   "cell_type": "code",
   "execution_count": 3,
   "id": "2b6bc8de",
   "metadata": {},
   "outputs": [],
   "source": [
    "# 데이터 범위 조정을 위해 표준화를 적용합니다.\n",
    "X = (X - torch.mean(X)) / torch.std(X)"
   ]
  },
  {
   "cell_type": "code",
   "execution_count": 4,
   "id": "e35b2b60",
   "metadata": {},
   "outputs": [],
   "source": [
    "# 30개의 값을 입력받는 로지스틱 회귀 모델 객체를 생성합니다.\n",
    "model = nn.Sequential(\n",
    "    nn.Linear(30, 1),\n",
    "    nn.Sigmoid()\n",
    ")"
   ]
  },
  {
   "cell_type": "code",
   "execution_count": 5,
   "id": "a1178346",
   "metadata": {},
   "outputs": [],
   "source": [
    "# 이진 크로스 엔트로피(Binary Cross Entropy) 손실 함수 객체를 생성합니다.\n",
    "criterion = nn.BCELoss()\n",
    "\n",
    "# 확률적 경사 하강법 옵티마이저 객체를 생성합니다.\n",
    "optimizer = optim.SGD(model.parameters(), lr=0.1)"
   ]
  },
  {
   "cell_type": "code",
   "execution_count": 6,
   "id": "8f80b412",
   "metadata": {},
   "outputs": [],
   "source": [
    "# 학습 함수를 정의합니다.\n",
    "def train(model, criterion, optimizer, X, y):\n",
    "  # 기울기를 초기화합니다.\n",
    "  optimizer.zero_grad()\n",
    "  # 모델을 사용해 결과를 추론합니다.\n",
    "  hypothesis = model(X)\n",
    "  # 오차를 계산합니다.\n",
    "  loss = criterion(hypothesis, y)\n",
    "  # 기울기를 계산합니다.\n",
    "  loss.backward()\n",
    "  # 경사 하강법으로 가중치를 수정합니다.\n",
    "  optimizer.step()  \n",
    "  # 현재 에포크의 오차를 반환합니다.\n",
    "  return loss.item()"
   ]
  },
  {
   "cell_type": "code",
   "execution_count": 7,
   "id": "68c0aa3d",
   "metadata": {},
   "outputs": [
    {
     "name": "stdout",
     "output_type": "stream",
     "text": [
      "epoch: 10, loss: 0.6001\n",
      "epoch: 20, loss: 0.5290\n",
      "epoch: 30, loss: 0.4781\n",
      "epoch: 40, loss: 0.4400\n",
      "epoch: 50, loss: 0.4107\n",
      "epoch: 60, loss: 0.3875\n",
      "epoch: 70, loss: 0.3686\n",
      "epoch: 80, loss: 0.3529\n",
      "epoch: 90, loss: 0.3398\n",
      "epoch: 100, loss: 0.3286\n"
     ]
    }
   ],
   "source": [
    "# 100회에 걸쳐 모델을 학습시킵니다.\n",
    "n_epochs = 100\n",
    "for epoch in range(1, n_epochs+1):\n",
    "  # 모델을 학습시킵니다.\n",
    "  loss = train(model, criterion, optimizer, X, y)  \n",
    "  # 10 epoch마다 오차를 출력합니다.\n",
    "  if epoch % 10 == 0:\n",
    "    print('epoch: {}, loss: {:.4f}'.format(epoch, loss))"
   ]
  },
  {
   "cell_type": "code",
   "execution_count": 8,
   "id": "fdcca10e",
   "metadata": {},
   "outputs": [
    {
     "name": "stdout",
     "output_type": "stream",
     "text": [
      "accuracy: 0.91\n"
     ]
    }
   ],
   "source": [
    "# 학습된 모델을 사용해 결과를 추론합니다.\n",
    "y_predicted = (model(X) >= 0.5).float()\n",
    "\n",
    "# 정확도를 계산하고 출력합니다.\n",
    "score = (y_predicted==y).float().mean()\n",
    "print('accuracy: {:.2f}'.format(score))"
   ]
  }
 ],
 "metadata": {
  "kernelspec": {
   "display_name": "Python 3",
   "language": "python",
   "name": "python3"
  },
  "language_info": {
   "codemirror_mode": {
    "name": "ipython",
    "version": 3
   },
   "file_extension": ".py",
   "mimetype": "text/x-python",
   "name": "python",
   "nbconvert_exporter": "python",
   "pygments_lexer": "ipython3",
   "version": "3.6.9"
  }
 },
 "nbformat": 4,
 "nbformat_minor": 5
}
