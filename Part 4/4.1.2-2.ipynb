{
 "cells": [
  {
   "cell_type": "code",
   "execution_count": 1,
   "metadata": {
    "colab": {
     "base_uri": "https://localhost:8080/"
    },
    "executionInfo": {
     "elapsed": 1317,
     "status": "ok",
     "timestamp": 1617520885104,
     "user": {
      "displayName": "홍승백",
      "photoUrl": "",
      "userId": "17288301376861649879"
     },
     "user_tz": -540
    },
    "id": "Q--qsxQnwZk9",
    "outputId": "2c926a76-df42-4b54-a45b-f2a73aade31d"
   },
   "outputs": [
    {
     "name": "stdout",
     "output_type": "stream",
     "text": [
      "원본 데이터:\n",
      "   0  1    2\n",
      "0  1  2  3.0\n",
      "1  4  5  NaN\n",
      "2  7  8  NaN\n",
      "누락된 값을 포함한 특성을 제거한 데이터:\n",
      "   0  1\n",
      "0  1  2\n",
      "1  4  5\n",
      "2  7  8\n"
     ]
    }
   ],
   "source": [
    "# 4.1.2 누락된 값 다루기(특성 제거하기)\n",
    "# 실습에 필요한 패키지를 불러옵니다.\n",
    "import pandas as pd\n",
    "\n",
    "# 데이터를 데이터 프레임 형태로 만듭니다.\n",
    "X = pd.DataFrame([[1, 2, 3],\n",
    "                                [4, 5, None],\n",
    "                                [7, 8, None]])\n",
    "\n",
    "# 원본 데이터를 화면에 출력합니다.\n",
    "print('원본 데이터:\\n{}'.format(X))\n",
    "\n",
    "# 누락된 값을 포함한 특성을 제거합니다.\n",
    "X = X.dropna(axis=1)\n",
    "\n",
    "# 최종 데이터를 화면에 출력합니다.\n",
    "print('누락된 값을 포함한 특성을 제거한 데이터:\\n{}'.format(X))"
   ]
  }
 ],
 "metadata": {
  "colab": {
   "authorship_tag": "ABX9TyPNJmq+Tgjn/oUFQ5UV0pMd",
   "name": "4.1.2 누락된 값 다루기_실습2.ipynb",
   "provenance": []
  },
  "kernelspec": {
   "display_name": "Python 3",
   "language": "python",
   "name": "python3"
  },
  "language_info": {
   "codemirror_mode": {
    "name": "ipython",
    "version": 3
   },
   "file_extension": ".py",
   "mimetype": "text/x-python",
   "name": "python",
   "nbconvert_exporter": "python",
   "pygments_lexer": "ipython3",
   "version": "3.7.10"
  }
 },
 "nbformat": 4,
 "nbformat_minor": 1
}