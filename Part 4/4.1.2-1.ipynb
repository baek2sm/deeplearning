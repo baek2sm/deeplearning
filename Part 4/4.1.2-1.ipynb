{
 "cells": [
  {
   "cell_type": "code",
   "execution_count": 5,
   "metadata": {
    "colab": {
     "base_uri": "https://localhost:8080/"
    },
    "executionInfo": {
     "elapsed": 1010,
     "status": "ok",
     "timestamp": 1617520798806,
     "user": {
      "displayName": "홍승백",
      "photoUrl": "",
      "userId": "17288301376861649879"
     },
     "user_tz": -540
    },
    "id": "YbtJtIR_vik0",
    "outputId": "0af28ec1-6ba7-4c11-8ac2-e3a70a8d7e4f"
   },
   "outputs": [
    {
     "name": "stdout",
     "output_type": "stream",
     "text": [
      "원본 데이터:\n",
      "   0  1    2\n",
      "0  1  2  3.0\n",
      "1  4  5  6.0\n",
      "2  7  8  NaN\n",
      "누락된 데이터 샘플을 제거한 후의 데이터:\n",
      "   0  1    2\n",
      "0  1  2  3.0\n",
      "1  4  5  6.0\n"
     ]
    }
   ],
   "source": [
    "# 4.1.2 누락된 값 다루기(데이터 샘플 삭제하기)\n",
    "# 실습에 필요한 패키지를 불러옵니다.\n",
    "import pandas as pd\n",
    "\n",
    "# 데이터를 데이터 프레임 형태로 만듭니다.\n",
    "X = pd.DataFrame([[1, 2, 3],\n",
    "                  [4, 5, 6],\n",
    "                  [7, 8, None]])\n",
    "\n",
    "# 원본 데이터를 화면에 출력합니다.\n",
    "print('원본 데이터:\\n{}'.format(X))\n",
    "\n",
    "# 누락된 값을 포함한 데이터 샘플을 제거합니다.\n",
    "X = X.dropna()\n",
    "\n",
    "# 최종 데이터를 화면에 출력합니다.\n",
    "print('누락된 데이터 샘플을 제거한 후의 데이터:\\n{}'.format(X))"
   ]
  },
  {
   "cell_type": "code",
   "execution_count": 4,
   "metadata": {
    "colab": {
     "base_uri": "https://localhost:8080/"
    },
    "executionInfo": {
     "elapsed": 1004,
     "status": "ok",
     "timestamp": 1617520794930,
     "user": {
      "displayName": "홍승백",
      "photoUrl": "",
      "userId": "17288301376861649879"
     },
     "user_tz": -540
    },
    "id": "6xycorgKv2AA",
    "outputId": "47694f94-0452-4267-ac1e-b8e21d256707"
   },
   "outputs": [
    {
     "name": "stdout",
     "output_type": "stream",
     "text": [
      "원본 데이터:\n",
      "   0    1    2\n",
      "0  1  2.0  3.0\n",
      "1  4  5.0  NaN\n",
      "2  7  NaN  NaN\n",
      "누락된 데이터 샘플을 제거한 후의 데이터:\n",
      "   0    1    2\n",
      "0  1  2.0  3.0\n",
      "1  4  5.0  NaN\n"
     ]
    }
   ],
   "source": [
    "# 데이터를 데이터 프레임 형태로 만듭니다.\n",
    "X = pd.DataFrame([[1, 2, 3],\n",
    "                          [4, 5, None],\n",
    "                          [7, None, None]])\n",
    "\n",
    "# 원본 데이터를 화면에 출력합니다.\n",
    "print('원본 데이터:\\n{}'.format(X))\n",
    "\n",
    "# 누락된 값이 여러 개인 데이터 샘플을 제거합니다.\n",
    "# 2개 이상의 값을 가지고 있는 데이터 샘플은 제거하지 않습니다.\n",
    "X = X.dropna(thresh=2)\n",
    "\n",
    "# 최종 데이터를 화면에 출력합니다.\n",
    "print('누락된 데이터 샘플을 제거한 후의 데이터:\\n{}'.format(X))"
   ]
  },
  {
   "cell_type": "code",
   "execution_count": 3,
   "metadata": {
    "colab": {
     "base_uri": "https://localhost:8080/"
    },
    "executionInfo": {
     "elapsed": 1056,
     "status": "ok",
     "timestamp": 1617520790683,
     "user": {
      "displayName": "홍승백",
      "photoUrl": "",
      "userId": "17288301376861649879"
     },
     "user_tz": -540
    },
    "id": "VtH2I1OBwHXd",
    "outputId": "643c9b57-fd05-46c3-9ef3-14353d4e2f36"
   },
   "outputs": [
    {
     "name": "stdout",
     "output_type": "stream",
     "text": [
      "원본 데이터:\n",
      "   0    1    2\n",
      "0  1  2.0  3.0\n",
      "1  4  5.0  NaN\n",
      "2  7  NaN  NaN\n",
      "1열이 누락된 데이터 샘플을 제거한 후의 데이터:\n",
      "   0    1    2\n",
      "0  1  2.0  3.0\n",
      "1  4  5.0  NaN\n"
     ]
    }
   ],
   "source": [
    "# 데이터를 데이터 프레임 형태로 만듭니다.\n",
    "X = pd.DataFrame([[1, 2, 3],\n",
    "                                [4, 5, None],\n",
    "                                [7, None, None]])\n",
    "\n",
    "\n",
    "# 원본 데이터를 화면에 출력합니다.\n",
    "print('원본 데이터:\\n{}'.format(X))\n",
    "\n",
    "# 1열의 특성 값이 누락된 데이터 샘플을 제거합니다.\n",
    "X = X.dropna(subset=[1])\n",
    "\n",
    "# 최종 데이터를 화면에 출력합니다.\n",
    "print('1열이 누락된 데이터 샘플을 제거한 후의 데이터:\\n{}'.format(X))"
   ]
  }
 ],
 "metadata": {
  "colab": {
   "authorship_tag": "ABX9TyMJFR5rLW5UAd9yRV/yds0H",
   "collapsed_sections": [],
   "name": "4.1.2 누락된 값 다루기_실습1.ipynb",
   "provenance": []
  },
  "kernelspec": {
   "display_name": "Python 3 (ipykernel)",
   "language": "python",
   "name": "python3"
  },
  "language_info": {
   "codemirror_mode": {
    "name": "ipython",
    "version": 3
   },
   "file_extension": ".py",
   "mimetype": "text/x-python",
   "name": "python",
   "nbconvert_exporter": "python",
   "pygments_lexer": "ipython3",
   "version": "3.7.11"
  }
 },
 "nbformat": 4,
 "nbformat_minor": 1
}