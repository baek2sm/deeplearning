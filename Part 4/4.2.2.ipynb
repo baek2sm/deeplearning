{
 "cells": [
  {
   "cell_type": "code",
   "execution_count": 1,
   "metadata": {
    "colab": {
     "base_uri": "https://localhost:8080/"
    },
    "executionInfo": {
     "elapsed": 844,
     "status": "ok",
     "timestamp": 1617522280101,
     "user": {
      "displayName": "홍승백",
      "photoUrl": "",
      "userId": "17288301376861649879"
     },
     "user_tz": -540
    },
    "id": "mUU-FjDb1snn",
    "outputId": "af150b30-2f15-49fc-e519-696a4ba575c2"
   },
   "outputs": [
    {
     "name": "stdout",
     "output_type": "stream",
     "text": [
      "2015.11.9\n",
      "2019.10.1\n",
      "20.5.12\n"
     ]
    }
   ],
   "source": [
    "# 정규표현식 사용을 위해 re 패키지를 불러옵니다.\n",
    "import re\n",
    "\n",
    "# 실습에 사용할 날짜를 포함한 문장을 준비합니다.\n",
    "sentences = ['텐서플로우 출시일은 2015.11.9 입니다.',\n",
    "                  '텐서플로우의 2버전대는 2019.10.1 날짜에 출시했습니다.',\n",
    "                  '사이킷런 0.23 버전은 20.5.12 에 출시했습니다.']\n",
    "\n",
    "# 날짜를 찾는 정규표현식을 작성하고 컴파일합니다.\n",
    "pattern = re.compile('\\d{2,4}\\.\\d{1,2}\\.\\d{1,2}')\n",
    "\n",
    "# 컴파일한 정규표현식을 사용해서 날짜 부분만 찾아 출력합니다.\n",
    "for sentence in sentences:\n",
    "    match = pattern.search(sentence)\n",
    "    print(match.group())"
   ]
  },
  {
   "cell_type": "code",
   "execution_count": 2,
   "metadata": {
    "colab": {
     "base_uri": "https://localhost:8080/"
    },
    "executionInfo": {
     "elapsed": 1012,
     "status": "ok",
     "timestamp": 1617522322762,
     "user": {
      "displayName": "홍승백",
      "photoUrl": "",
      "userId": "17288301376861649879"
     },
     "user_tz": -540
    },
    "id": "4HixMz3H1-A-",
    "outputId": "d0efbb00-3ab4-4c29-b8df-b2c61268b72f"
   },
   "outputs": [
    {
     "name": "stdout",
     "output_type": "stream",
     "text": [
      "heart\n"
     ]
    }
   ],
   "source": [
    "# 실습에 사용할 날짜를 포함한 문장을 준비합니다.\n",
    "sentence = 'Wheresoever you go, go with all your heart.'\n",
    "\n",
    "# heart 문자열을 찾는 정규표현식을 작성하고 컴파일합니다.\n",
    "pattern = re.compile('heart')\n",
    "\n",
    "# 컴파일한 정규표현식을 사용해서 heart 문자열만 찾아 출력합니다.\n",
    "match = pattern.search(sentence)\n",
    "print(match.group())"
   ]
  },
  {
   "cell_type": "code",
   "execution_count": 3,
   "metadata": {
    "colab": {
     "base_uri": "https://localhost:8080/"
    },
    "executionInfo": {
     "elapsed": 866,
     "status": "ok",
     "timestamp": 1617522362697,
     "user": {
      "displayName": "홍승백",
      "photoUrl": "",
      "userId": "17288301376861649879"
     },
     "user_tz": -540
    },
    "id": "YKHm5Cch2Hn3",
    "outputId": "93eb92c6-dde5-40bc-bf9c-9a6317e1b527"
   },
   "outputs": [
    {
     "name": "stdout",
     "output_type": "stream",
     "text": [
      "heart\n"
     ]
    }
   ],
   "source": [
    "# 실습에 사용할 날짜를 포함한 문장을 준비합니다.\n",
    "sentence = 'Wheresoever you go, go with all your heart.'\n",
    "\n",
    "# h...t 문자열을 찾는 정규표현식을 작성하고 컴파일합니다.\n",
    "pattern = re.compile('h...t')\n",
    "\n",
    "# 컴파일한 정규표현식을 사용해서 heart 문자열만 찾아 출력합니다.\n",
    "match = pattern.search(sentence)\n",
    "print(match.group())"
   ]
  },
  {
   "cell_type": "code",
   "execution_count": 4,
   "metadata": {
    "colab": {
     "base_uri": "https://localhost:8080/"
    },
    "executionInfo": {
     "elapsed": 1481,
     "status": "ok",
     "timestamp": 1617522401270,
     "user": {
      "displayName": "홍승백",
      "photoUrl": "",
      "userId": "17288301376861649879"
     },
     "user_tz": -540
    },
    "id": "2gkFKGfO2JLy",
    "outputId": "16df22c0-a5ed-418d-f6b8-8d8c1bfa9d1f"
   },
   "outputs": [
    {
     "name": "stdout",
     "output_type": "stream",
     "text": [
      "012-1234-1234\n",
      "01212341234\n"
     ]
    }
   ],
   "source": [
    "# 실습에 사용할 문장을 준비합니다.\n",
    "sentences = ['홍길동, 012-1234-1234',\n",
    "                      'Gildong, 01212341234']\n",
    "\n",
    "# 연락처를 찾는 정규표현식을 작성하고 컴파일합니다.\n",
    "pattern = re.compile('012-?1234-?1234')\n",
    "\n",
    "# 컴파일한 정규표현식을 사용해서 연락처 부분만 찾아 출력합니다.\n",
    "for sentence in sentences:\n",
    "    match = pattern.search(sentence)\n",
    "    print(match.group())"
   ]
  },
  {
   "cell_type": "code",
   "execution_count": 5,
   "metadata": {
    "colab": {
     "base_uri": "https://localhost:8080/"
    },
    "executionInfo": {
     "elapsed": 1842,
     "status": "ok",
     "timestamp": 1617522433234,
     "user": {
      "displayName": "홍승백",
      "photoUrl": "",
      "userId": "17288301376861649879"
     },
     "user_tz": -540
    },
    "id": "5eruhAcU2Sfy",
    "outputId": "34dee435-8d6d-45d7-ed36-f1509ff8691b"
   },
   "outputs": [
    {
     "name": "stdout",
     "output_type": "stream",
     "text": [
      "012-1234-1234\n",
      "012-3456-3456\n"
     ]
    }
   ],
   "source": [
    "# 실습에 사용할 문장을 준비합니다.\n",
    "sentences = ['홍길동, 012-1234-1234',\n",
    "                     'Gildong, 012-3456-3456']\n",
    "\n",
    "# 연락처를 찾는 정규표현식을 작성하고 컴파일합니다.\n",
    "pattern = re.compile('\\d\\d\\d-\\d\\d\\d\\d-\\d\\d\\d\\d')\n",
    "\n",
    "# 컴파일한 정규표현식을 사용해서 연락처 부분만 찾아 출력합니다.\n",
    "for sentence in sentences:\n",
    "    match = pattern.search(sentence)\n",
    "    print(match.group())"
   ]
  },
  {
   "cell_type": "code",
   "execution_count": 7,
   "metadata": {
    "colab": {
     "base_uri": "https://localhost:8080/"
    },
    "executionInfo": {
     "elapsed": 758,
     "status": "ok",
     "timestamp": 1617522541048,
     "user": {
      "displayName": "홍승백",
      "photoUrl": "",
      "userId": "17288301376861649879"
     },
     "user_tz": -540
    },
    "id": "EK1Ayksg2aVu",
    "outputId": "13640242-a2c8-4cce-d17c-b16075af8103"
   },
   "outputs": [
    {
     "name": "stdout",
     "output_type": "stream",
     "text": [
      "가\n",
      "ㅎ\n",
      "ㅑ\n"
     ]
    }
   ],
   "source": [
    "# 실습에 사용할 문장을 준비합니다.\n",
    "sentences = ['A-가-0',\n",
    "             'B-ㅎ-1',\n",
    "             'C-ㅑ-2']\n",
    "\n",
    "# 한글을 찾는 정규표현식을 작성하고 컴파일합니다.\n",
    "pattern = re.compile('[ㄱ-ㅣ가-힣]')\n",
    "\n",
    "# 컴파일한 정규표현식을 사용해서 한글 부분만 찾아 출력합니다.\n",
    "for sentence in sentences:\n",
    "    match = pattern.search(sentence)\n",
    "    print(match.group())"
   ]
  },
  {
   "cell_type": "code",
   "execution_count": 8,
   "metadata": {
    "colab": {
     "base_uri": "https://localhost:8080/"
    },
    "executionInfo": {
     "elapsed": 789,
     "status": "ok",
     "timestamp": 1617522578721,
     "user": {
      "displayName": "홍승백",
      "photoUrl": "",
      "userId": "17288301376861649879"
     },
     "user_tz": -540
    },
    "id": "YkNjXhEr28XI",
    "outputId": "e1e86e9d-2d54-4fa3-c843-9dd43852d196"
   },
   "outputs": [
    {
     "name": "stdout",
     "output_type": "stream",
     "text": [
      "012-1234-5678\n",
      "012-3456-7890\n"
     ]
    }
   ],
   "source": [
    "# 실습에 사용할 문장을 준비합니다.\n",
    "sentences = ['홍길동, 012-1234-5678',\n",
    "                      'Gildong, 012-3456-7890']\n",
    "\n",
    "# 연락처를 찾는 정규표현식을 작성하고 컴파일합니다.\n",
    "pattern = re.compile('\\d{3}-\\d{4}-\\d{4}')\n",
    "\n",
    "# 컴파일한 정규표현식을 사용해서 연락처 부분만 찾아 출력합니다.\n",
    "for sentence in sentences:\n",
    "    match = pattern.search(sentence)\n",
    "    print(match.group())"
   ]
  },
  {
   "cell_type": "code",
   "execution_count": 9,
   "metadata": {
    "colab": {
     "base_uri": "https://localhost:8080/"
    },
    "executionInfo": {
     "elapsed": 798,
     "status": "ok",
     "timestamp": 1617522641195,
     "user": {
      "displayName": "홍승백",
      "photoUrl": "",
      "userId": "17288301376861649879"
     },
     "user_tz": -540
    },
    "id": "vXtmHJ073LQc",
    "outputId": "3208a542-c7ef-456a-be8e-7224190beca0"
   },
   "outputs": [
    {
     "name": "stdout",
     "output_type": "stream",
     "text": [
      "012-1234-5678\n",
      "012-3456-7890\n"
     ]
    }
   ],
   "source": [
    "# 실습에 사용할 문장을 준비합니다.\n",
    "sentences = ['홍길동, 012-1234-5678',\n",
    "                     'Gildong, 012-3456-7890']\n",
    "\n",
    "# 연락처를 찾는 정규표현식을 작성하고 컴파일합니다.\n",
    "pattern = re.compile('\\d+-\\d+-\\d+')\n",
    "\n",
    "# 컴파일한 정규표현식을 사용해서 연락처 부분만 찾아 출력합니다.\n",
    "for sentence in sentences:\n",
    "    match = pattern.search(sentence)\n",
    "    print(match.group())"
   ]
  },
  {
   "cell_type": "code",
   "execution_count": 10,
   "metadata": {
    "colab": {
     "base_uri": "https://localhost:8080/"
    },
    "executionInfo": {
     "elapsed": 764,
     "status": "ok",
     "timestamp": 1617522687300,
     "user": {
      "displayName": "홍승백",
      "photoUrl": "",
      "userId": "17288301376861649879"
     },
     "user_tz": -540
    },
    "id": "3spDMOtX3U4h",
    "outputId": "3df725d8-dd64-4596-95dc-26f15d48acc5"
   },
   "outputs": [
    {
     "name": "stdout",
     "output_type": "stream",
     "text": [
      "5678\n",
      "7890\n"
     ]
    }
   ],
   "source": [
    "# 실습에 사용할 문장을 준비합니다.\n",
    "sentences = ['홍길동, 012-1234-5678',\n",
    "                      'Gildong, 012-3456-7890']\n",
    "\n",
    "# 연락처의 마지막 네 자리를  찾는 정규표현식을 작성하고 컴파일합니다.\n",
    "pt = re.compile('\\d{3}-\\d{4}-(?P<last>\\d{4})')\n",
    "\n",
    "# 컴파일한 정규표현식을 사용해서 연락처 마지막 네 자리만 찾아 출력합니다.\n",
    "for sentence in sentences:\n",
    "  match = pt.search(sentence)\n",
    "  print(match.group('last'))"
   ]
  }
 ],
 "metadata": {
  "colab": {
   "authorship_tag": "ABX9TyNmHk7aivyZq9oIJOMw76dD",
   "collapsed_sections": [],
   "name": "4.2.2 정규표현식_실습",
   "provenance": []
  },
  "kernelspec": {
   "display_name": "Python 3 (ipykernel)",
   "language": "python",
   "name": "python3"
  },
  "language_info": {
   "codemirror_mode": {
    "name": "ipython",
    "version": 3
   },
   "file_extension": ".py",
   "mimetype": "text/x-python",
   "name": "python",
   "nbconvert_exporter": "python",
   "pygments_lexer": "ipython3",
   "version": "3.7.11"
  }
 },
 "nbformat": 4,
 "nbformat_minor": 1
}
