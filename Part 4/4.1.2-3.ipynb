{
 "cells": [
  {
   "cell_type": "code",
   "execution_count": 1,
   "metadata": {
    "colab": {
     "base_uri": "https://localhost:8080/"
    },
    "executionInfo": {
     "elapsed": 2048,
     "status": "ok",
     "timestamp": 1617520933713,
     "user": {
      "displayName": "홍승백",
      "photoUrl": "",
      "userId": "17288301376861649879"
     },
     "user_tz": -540
    },
    "id": "_tM7Z7FDwlEG",
    "outputId": "e786e1f8-bbdb-40e8-e6de-453a2c338cd4"
   },
   "outputs": [
    {
     "name": "stdout",
     "output_type": "stream",
     "text": [
      "[[1. 6. 3.]\n",
      " [4. 5. 3.]\n",
      " [3. 7. 5.]\n",
      " [2. 5. 3.]\n",
      " [8. 5. 1.]]\n"
     ]
    }
   ],
   "source": [
    "# 4.1.2 누락된 값 다루기(다른 값으로 대체하기)\n",
    "# 실습에 필요한 패키지를 불러옵니다.\n",
    "from sklearn.impute import SimpleImputer\n",
    "import numpy as np\n",
    "\n",
    "# 누락된 값을 포함한 데이터를 준비합니다.\n",
    "X = np.array([[1, 6, 3],\n",
    "                      [4, 5, 3],\n",
    "                      [3, 7, 5],\n",
    "                      [2, 5, None],\n",
    "                       [8, 5, 1]])\n",
    "\n",
    "# 누락된 값을 중앙값으로 대체하는 SimpleImputer 객체를 생성합니다.\n",
    "imputer = SimpleImputer(strategy='median')\n",
    "\n",
    "# 누락된 값을 중앙값으로 대체합니다.\n",
    "X_imputed = imputer.fit_transform(X)\n",
    "\n",
    "# 결과를 출력합니다.\n",
    "print(X_imputed)"
   ]
  },
  {
   "cell_type": "code",
   "execution_count": 2,
   "metadata": {
    "colab": {
     "base_uri": "https://localhost:8080/"
    },
    "executionInfo": {
     "elapsed": 985,
     "status": "ok",
     "timestamp": 1617521019206,
     "user": {
      "displayName": "홍승백",
      "photoUrl": "",
      "userId": "17288301376861649879"
     },
     "user_tz": -540
    },
    "id": "kqGiJkg1w9wV",
    "outputId": "766209a6-b855-44dc-f8d3-1f079fc6bef4"
   },
   "outputs": [
    {
     "name": "stdout",
     "output_type": "stream",
     "text": [
      "[[1.         5.         3.66666667]\n",
      " [2.         6.         4.        ]]\n"
     ]
    }
   ],
   "source": [
    "# 학습, 테스트 데이터를 준비합니다.\n",
    "X_train = np.array([[1, 6, 3],\n",
    "                               [4, 5, 3],\n",
    "                               [3, 7, 5]])\n",
    "\n",
    "X_test = np.array([[1, 5, None],\n",
    "                              [2, None, 4]])\n",
    "\n",
    "# 누락된 값을 평균값으로 대체하는 SimpleImputer 객체를 생성하고 학습시킵니다.\n",
    "imputer = SimpleImputer(strategy='mean')\n",
    "imputer.fit(X_train)\n",
    "\n",
    "# 누락된 값을 학습 세트의 평균값으로 대체합니다.\n",
    "X_imputed = imputer.transform(X_test)\n",
    "\n",
    "# 결과를 출력합니다.\n",
    "print(X_imputed)"
   ]
  },
  {
   "cell_type": "code",
   "execution_count": 3,
   "metadata": {
    "colab": {
     "base_uri": "https://localhost:8080/"
    },
    "executionInfo": {
     "elapsed": 838,
     "status": "ok",
     "timestamp": 1617521050357,
     "user": {
      "displayName": "홍승백",
      "photoUrl": "",
      "userId": "17288301376861649879"
     },
     "user_tz": -540
    },
    "id": "4R6HDsOnxFau",
    "outputId": "8a241352-20cc-4a60-f791-dc5a3e7b1991"
   },
   "outputs": [
    {
     "name": "stdout",
     "output_type": "stream",
     "text": [
      "Imputing row 1/5 with 0 missing, elapsed time: 0.001\n",
      "[[1.         6.         3.        ]\n",
      " [4.         5.         3.        ]\n",
      " [3.         7.         5.        ]\n",
      " [1.         5.         3.46153846]\n",
      " [2.         6.         4.        ]]\n"
     ]
    }
   ],
   "source": [
    "# 실습에 필요한 패키지를 불러옵니다.\n",
    "from fancyimpute import KNN\n",
    "\n",
    "# 누락된 값을 포함한 데이터를 준비합니다.\n",
    "X = np.array([[1, 6, 3],\n",
    "              [4, 5, 3],\n",
    "              [3, 7, 5],\n",
    "              [1, 5, None],\n",
    "              [2, None, 4]])\n",
    "\n",
    "# K 최근접 이웃 알고리즘을 이용해서 누락된 값을 예측합니다.\n",
    "X = KNN(k=3).fit_transform(X)\n",
    "\n",
    "# 결과를 출력합니다.\n",
    "print(X)"
   ]
  }
 ],
 "metadata": {
  "colab": {
   "authorship_tag": "ABX9TyPH4JzFiMyMeq+YObAXh3LH",
   "collapsed_sections": [],
   "name": "4.1.2 누락된 값 다루기_실습3.ipynb",
   "provenance": []
  },
  "kernelspec": {
   "display_name": "Python 3",
   "language": "python",
   "name": "python3"
  },
  "language_info": {
   "codemirror_mode": {
    "name": "ipython",
    "version": 3
   },
   "file_extension": ".py",
   "mimetype": "text/x-python",
   "name": "python",
   "nbconvert_exporter": "python",
   "pygments_lexer": "ipython3",
   "version": "3.7.10"
  }
 },
 "nbformat": 4,
 "nbformat_minor": 1
}