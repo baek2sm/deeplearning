{
 "cells": [
  {
   "cell_type": "code",
   "execution_count": 1,
   "metadata": {
    "colab": {
     "base_uri": "https://localhost:8080/"
    },
    "executionInfo": {
     "elapsed": 3713,
     "status": "ok",
     "timestamp": 1617520592204,
     "user": {
      "displayName": "홍승백",
      "photoUrl": "",
      "userId": "17288301376861649879"
     },
     "user_tz": -540
    },
    "id": "qeLzMqDatjvD",
    "outputId": "795124a4-a167-4b53-d277-b57a6a72373a"
   },
   "outputs": [],
   "source": [
    "# 필요한 패키지를 불러옵니다.\n",
    "from sklearn.preprocessing import MinMaxScaler\n",
    "import numpy as np"
   ]
  },
  {
   "cell_type": "code",
   "execution_count": 2,
   "metadata": {},
   "outputs": [],
   "source": [
    "# 실습에 사용할 임의의 데이터를 준비합니다.\n",
    "X_train = np.array([[1], [23], [15], [22], [7]])\n",
    "X_test = np.array([[6], [15], [30], [2], [21]])"
   ]
  },
  {
   "cell_type": "code",
   "execution_count": 3,
   "metadata": {},
   "outputs": [],
   "source": [
    "# MinMaxScaler를 사용해 학습 데이터와 테스트 데이터의 스케일을 변환합니다. \n",
    "scaler = MinMaxScaler(feature_range=(-1, 1))\n",
    "X_train_std = scaler.fit_transform(X_train)\n",
    "X_test_std = scaler.transform(X_test)"
   ]
  },
  {
   "cell_type": "code",
   "execution_count": 4,
   "metadata": {},
   "outputs": [
    {
     "name": "stdout",
     "output_type": "stream",
     "text": [
      "변환된 학습 데이터\n",
      "[[-1.        ]\n",
      " [ 1.        ]\n",
      " [ 0.27272727]\n",
      " [ 0.90909091]\n",
      " [-0.45454545]]\n",
      "변환된 테스트 데이터\n",
      "[[-0.54545455]\n",
      " [ 0.27272727]\n",
      " [ 1.63636364]\n",
      " [-0.90909091]\n",
      " [ 0.81818182]]\n"
     ]
    }
   ],
   "source": [
    "# 변환된 결과를 화면에 출력합니다.\n",
    "print('변환된 학습 데이터')\n",
    "print(X_train_std)\n",
    "print('변환된 테스트 데이터')\n",
    "print(X_test_std)"
   ]
  }
 ],
 "metadata": {
  "colab": {
   "authorship_tag": "ABX9TyMrzS2W2vI0v9agLwMTQwvJ",
   "collapsed_sections": [],
   "name": "4.1.1 스케일 조정하기.ipynb",
   "provenance": []
  },
  "kernelspec": {
   "display_name": "Python 3 (ipykernel)",
   "language": "python",
   "name": "python3"
  },
  "language_info": {
   "codemirror_mode": {
    "name": "ipython",
    "version": 3
   },
   "file_extension": ".py",
   "mimetype": "text/x-python",
   "name": "python",
   "nbconvert_exporter": "python",
   "pygments_lexer": "ipython3",
   "version": "3.7.11"
  }
 },
 "nbformat": 4,
 "nbformat_minor": 1
}