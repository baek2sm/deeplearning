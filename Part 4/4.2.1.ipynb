{
 "cells": [
  {
   "cell_type": "code",
   "execution_count": 1,
   "metadata": {
    "colab": {
     "base_uri": "https://localhost:8080/"
    },
    "executionInfo": {
     "elapsed": 9488,
     "status": "ok",
     "timestamp": 1617521337121,
     "user": {
      "displayName": "홍승백",
      "photoUrl": "",
      "userId": "17288301376861649879"
     },
     "user_tz": -540
    },
    "id": "doA9MlVTxg0q",
    "outputId": "50efba97-014b-4d96-bcce-9192ea5516d2"
   },
   "outputs": [
    {
     "name": "stdout",
     "output_type": "stream",
     "text": [
      "Collecting konlpy\n",
      "\u001b[?25l  Downloading https://files.pythonhosted.org/packages/85/0e/f385566fec837c0b83f216b2da65db9997b35dd675e107752005b7d392b1/konlpy-0.5.2-py2.py3-none-any.whl (19.4MB)\n",
      "\u001b[K     |████████████████████████████████| 19.4MB 1.3MB/s \n",
      "\u001b[?25hRequirement already satisfied: numpy>=1.6 in /usr/local/lib/python3.7/dist-packages (from konlpy) (1.19.5)\n",
      "Requirement already satisfied: tweepy>=3.7.0 in /usr/local/lib/python3.7/dist-packages (from konlpy) (3.10.0)\n",
      "Collecting colorama\n",
      "  Downloading https://files.pythonhosted.org/packages/44/98/5b86278fbbf250d239ae0ecb724f8572af1c91f4a11edf4d36a206189440/colorama-0.4.4-py2.py3-none-any.whl\n",
      "Requirement already satisfied: lxml>=4.1.0 in /usr/local/lib/python3.7/dist-packages (from konlpy) (4.2.6)\n",
      "Collecting beautifulsoup4==4.6.0\n",
      "\u001b[?25l  Downloading https://files.pythonhosted.org/packages/9e/d4/10f46e5cfac773e22707237bfcd51bbffeaf0a576b0a847ec7ab15bd7ace/beautifulsoup4-4.6.0-py3-none-any.whl (86kB)\n",
      "\u001b[K     |████████████████████████████████| 92kB 8.5MB/s \n",
      "\u001b[?25hCollecting JPype1>=0.7.0\n",
      "\u001b[?25l  Downloading https://files.pythonhosted.org/packages/cd/a5/9781e2ef4ca92d09912c4794642c1653aea7607f473e156cf4d423a881a1/JPype1-1.2.1-cp37-cp37m-manylinux2010_x86_64.whl (457kB)\n",
      "\u001b[K     |████████████████████████████████| 460kB 35.2MB/s \n",
      "\u001b[?25hRequirement already satisfied: requests-oauthlib>=0.7.0 in /usr/local/lib/python3.7/dist-packages (from tweepy>=3.7.0->konlpy) (1.3.0)\n",
      "Requirement already satisfied: six>=1.10.0 in /usr/local/lib/python3.7/dist-packages (from tweepy>=3.7.0->konlpy) (1.15.0)\n",
      "Requirement already satisfied: requests[socks]>=2.11.1 in /usr/local/lib/python3.7/dist-packages (from tweepy>=3.7.0->konlpy) (2.23.0)\n",
      "Requirement already satisfied: typing-extensions; python_version < \"3.8\" in /usr/local/lib/python3.7/dist-packages (from JPype1>=0.7.0->konlpy) (3.7.4.3)\n",
      "Requirement already satisfied: oauthlib>=3.0.0 in /usr/local/lib/python3.7/dist-packages (from requests-oauthlib>=0.7.0->tweepy>=3.7.0->konlpy) (3.1.0)\n",
      "Requirement already satisfied: urllib3!=1.25.0,!=1.25.1,<1.26,>=1.21.1 in /usr/local/lib/python3.7/dist-packages (from requests[socks]>=2.11.1->tweepy>=3.7.0->konlpy) (1.24.3)\n",
      "Requirement already satisfied: idna<3,>=2.5 in /usr/local/lib/python3.7/dist-packages (from requests[socks]>=2.11.1->tweepy>=3.7.0->konlpy) (2.10)\n",
      "Requirement already satisfied: certifi>=2017.4.17 in /usr/local/lib/python3.7/dist-packages (from requests[socks]>=2.11.1->tweepy>=3.7.0->konlpy) (2020.12.5)\n",
      "Requirement already satisfied: chardet<4,>=3.0.2 in /usr/local/lib/python3.7/dist-packages (from requests[socks]>=2.11.1->tweepy>=3.7.0->konlpy) (3.0.4)\n",
      "Requirement already satisfied: PySocks!=1.5.7,>=1.5.6; extra == \"socks\" in /usr/local/lib/python3.7/dist-packages (from requests[socks]>=2.11.1->tweepy>=3.7.0->konlpy) (1.7.1)\n",
      "Installing collected packages: colorama, beautifulsoup4, JPype1, konlpy\n",
      "  Found existing installation: beautifulsoup4 4.6.3\n",
      "    Uninstalling beautifulsoup4-4.6.3:\n",
      "      Successfully uninstalled beautifulsoup4-4.6.3\n",
      "Successfully installed JPype1-1.2.1 beautifulsoup4-4.6.0 colorama-0.4.4 konlpy-0.5.2\n"
     ]
    }
   ],
   "source": [
    "!pip install konlpy"
   ]
  },
  {
   "cell_type": "code",
   "execution_count": 2,
   "metadata": {
    "colab": {
     "base_uri": "https://localhost:8080/"
    },
    "executionInfo": {
     "elapsed": 22337,
     "status": "ok",
     "timestamp": 1617522131081,
     "user": {
      "displayName": "홍승백",
      "photoUrl": "",
      "userId": "17288301376861649879"
     },
     "user_tz": -540
    },
    "id": "gMtiQV-VyOy2",
    "outputId": "a322d9e4-b678-45db-d500-3c2b25ff56e2"
   },
   "outputs": [
    {
     "name": "stdout",
     "output_type": "stream",
     "text": [
      "Okt 형태소 분석기 결과: ['여정', '은', '그', '자체', '로', '보상', '입니다', '.']\n",
      "Kkma 형태소 분석기 결과: ['여정', '은', '그', '자체', '로', '보상', '이', 'ㅂ니다', '.']\n"
     ]
    }
   ],
   "source": [
    "# 실습에 필요한 라이브러리를 불러옵니다.\n",
    "from konlpy.tag import Okt, Kkma\n",
    "\n",
    "# Okt 형태소 분석기를 사용해서 문장을 단어 단위로 토큰화합니다.\n",
    "okt = Okt()\n",
    "okt_result = okt.morphs(\"여정은 그 자체로 보상입니다.\")\n",
    "\n",
    "# Kkma 형태소 분석기를 사용해서 문장을 단어 단위로 토큰화합니다.\n",
    "kkm = Kkma()\n",
    "kkm_result = kkm.morphs(\"여정은 그 자체로 보상입니다.\")\n",
    "\n",
    "# 단어 단위로 토큰화 된 결과를 출력합니다.\n",
    "print('Okt 형태소 분석기 결과:', okt_result)\n",
    "print('Kkma 형태소 분석기 결과:', kkm_result)"
   ]
  },
  {
   "cell_type": "code",
   "execution_count": 3,
   "metadata": {
    "colab": {
     "base_uri": "https://localhost:8080/"
    },
    "executionInfo": {
     "elapsed": 2220,
     "status": "ok",
     "timestamp": 1617522169238,
     "user": {
      "displayName": "홍승백",
      "photoUrl": "",
      "userId": "17288301376861649879"
     },
     "user_tz": -540
    },
    "id": "zgthci-41XbG",
    "outputId": "ae2baaa1-5762-40a4-c125-4fb78db26435"
   },
   "outputs": [
    {
     "name": "stdout",
     "output_type": "stream",
     "text": [
      "Okt 형태소 분석기 결과: [('여정', 'Noun'), ('은', 'Josa'), ('그', 'Noun'), ('자체', 'Noun'), ('로', 'Josa'), ('보상', 'Noun'), ('입니다', 'Adjective'), ('.', 'Punctuation')]\n"
     ]
    }
   ],
   "source": [
    "# Okt 형태소 분석기를 사용해서 문장을 단어 단위로 분석합니다.\n",
    "okt = Okt()\n",
    "okt_result = okt.pos(\"여정은 그 자체로 보상입니다.\")\n",
    "\n",
    "# 단어 단위로 분석된 결과를 출력합니다.\n",
    "print('Okt 형태소 분석기 결과:', okt_result)"
   ]
  },
  {
   "cell_type": "code",
   "execution_count": 4,
   "metadata": {
    "colab": {
     "base_uri": "https://localhost:8080/"
    },
    "executionInfo": {
     "elapsed": 890,
     "status": "ok",
     "timestamp": 1617522213814,
     "user": {
      "displayName": "홍승백",
      "photoUrl": "",
      "userId": "17288301376861649879"
     },
     "user_tz": -540
    },
    "id": "sfylZtDT1Z4l",
    "outputId": "885cde82-cbb0-4b24-be12-cab5c62fef35"
   },
   "outputs": [
    {
     "name": "stdout",
     "output_type": "stream",
     "text": [
      "Okt 형태소 분석기 결과: ['여정', '그', '자체', '보상']\n"
     ]
    }
   ],
   "source": [
    "# Okt 형태소 분석기를 사용해서 문장을 단어 단위로 분석합니다.\n",
    "okt = Okt()\n",
    "okt_result = okt.nouns(\"여정은 그 자체로 보상입니다.\")\n",
    "\n",
    "# 단어 단위로 분석된 결과를 출력합니다.\n",
    "print('Okt 형태소 분석기 결과:', okt_result)"
   ]
  }
 ],
 "metadata": {
  "colab": {
   "authorship_tag": "ABX9TyNue7/uRN6jRuFAzA4RgKX7",
   "collapsed_sections": [],
   "name": "4.2.1 토큰화_실습.ipynb",
   "provenance": []
  },
  "kernelspec": {
   "display_name": "Python 3",
   "language": "python",
   "name": "python3"
  },
  "language_info": {
   "codemirror_mode": {
    "name": "ipython",
    "version": 3
   },
   "file_extension": ".py",
   "mimetype": "text/x-python",
   "name": "python",
   "nbconvert_exporter": "python",
   "pygments_lexer": "ipython3",
   "version": "3.7.10"
  }
 },
 "nbformat": 4,
 "nbformat_minor": 1
}
