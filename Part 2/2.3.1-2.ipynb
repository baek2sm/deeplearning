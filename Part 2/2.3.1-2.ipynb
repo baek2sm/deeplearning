{
 "cells": [
  {
   "cell_type": "code",
   "execution_count": 1,
   "id": "c33cc9b8",
   "metadata": {},
   "outputs": [],
   "source": [
    "# 실습에 필요한 라이브러리를 불러옵니다.\n",
    "from sklearn import datasets\n",
    "from sklearn.neighbors import KNeighborsClassifier\n",
    "from sklearn.model_selection import cross_val_score\n",
    "import numpy as np"
   ]
  },
  {
   "cell_type": "code",
   "execution_count": 2,
   "id": "990a1a0e",
   "metadata": {},
   "outputs": [],
   "source": [
    "# 사이킷런에서 붓꽃 품종 데이터세트를 가져옵니다.\n",
    "dataset = datasets.load_iris()\n",
    "\n",
    "# 입력 데이터와 타깃을 준비합니다.\n",
    "X, y = dataset['data'], dataset['target']\n",
    "\n",
    "# K-최근접 이웃 모델 객체를 생성합니다.\n",
    "model = KNeighborsClassifier(n_neighbors=5)"
   ]
  },
  {
   "cell_type": "code",
   "execution_count": 3,
   "id": "9438491b",
   "metadata": {},
   "outputs": [
    {
     "name": "stdout",
     "output_type": "stream",
     "text": [
      "1fold score: 0.97\n",
      "2fold score: 1.00\n",
      "3fold score: 0.93\n",
      "4fold score: 0.97\n",
      "5fold score: 1.00\n",
      "mean score: 0.97\n"
     ]
    }
   ],
   "source": [
    "# K겹 교차 검증을 실행합니다.\n",
    "score_list = cross_val_score(model, X, y, cv=5)\n",
    "\n",
    "# K겹 교차 검증 결과를 출력합니다.\n",
    "for i in range(len(score_list)):\n",
    "   print('{}fold score: {:.2f}'.format(i+1, score_list[i]))\n",
    "print('mean score: {:.2f}'.format(np.mean(score_list)))"
   ]
  }
 ],
 "metadata": {
  "kernelspec": {
   "display_name": "Python 3",
   "language": "python",
   "name": "python3"
  },
  "language_info": {
   "codemirror_mode": {
    "name": "ipython",
    "version": 3
   },
   "file_extension": ".py",
   "mimetype": "text/x-python",
   "name": "python",
   "nbconvert_exporter": "python",
   "pygments_lexer": "ipython3",
   "version": "3.6.9"
  }
 },
 "nbformat": 4,
 "nbformat_minor": 5
}
