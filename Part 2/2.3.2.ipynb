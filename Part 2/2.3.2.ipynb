{
 "cells": [
  {
   "cell_type": "code",
   "execution_count": 1,
   "id": "b031eeb1",
   "metadata": {},
   "outputs": [],
   "source": [
    "# 실습에 필요한 라이브러리를 불러옵니다.\n",
    "from sklearn import datasets\n",
    "from sklearn.ensemble import RandomForestClassifier\n",
    "from sklearn.model_selection import GridSearchCV"
   ]
  },
  {
   "cell_type": "code",
   "execution_count": 2,
   "id": "e006a0f1",
   "metadata": {},
   "outputs": [],
   "source": [
    "# 사이킷런에서 붓꽃 품종 데이터세트를 불러옵니다.\n",
    "dataset = datasets.load_iris()\n",
    "\n",
    "# 입력 데이터와 타깃을 준비합니다.\n",
    "X, y = dataset.data, dataset.target"
   ]
  },
  {
   "cell_type": "code",
   "execution_count": 3,
   "id": "914aee86",
   "metadata": {},
   "outputs": [],
   "source": [
    "# 랜덤 포레스트 모델 객체를 생성합니다.\n",
    "rf = RandomForestClassifier()\n",
    "\n",
    "# 그리드 서치로 시도해 볼 하이퍼파라미터 조합을 준비합니다.\n",
    "param_grid = [{'n_estimators': range(5, 51, 5), 'max_features': range(1, 5), 'max_depth': range(1, 6)}]"
   ]
  },
  {
   "cell_type": "code",
   "execution_count": 4,
   "id": "61596365",
   "metadata": {},
   "outputs": [
    {
     "data": {
      "text/plain": [
       "GridSearchCV(cv=5, estimator=RandomForestClassifier(), n_jobs=-1,\n",
       "             param_grid=[{'max_depth': range(1, 6), 'max_features': range(1, 5),\n",
       "                          'n_estimators': range(5, 51, 5)}],\n",
       "             scoring='accuracy')"
      ]
     },
     "execution_count": 4,
     "metadata": {},
     "output_type": "execute_result"
    }
   ],
   "source": [
    "# 그리드 서치 객체를 생성합니다.\n",
    "gs = GridSearchCV(estimator=rf, param_grid=param_grid, scoring='accuracy', cv=5, n_jobs=-1)\n",
    "\n",
    "# 그리드 서치로 모델을 학습합니다.\n",
    "gs.fit(X, y)"
   ]
  },
  {
   "cell_type": "code",
   "execution_count": 5,
   "id": "37d61f06",
   "metadata": {},
   "outputs": [
    {
     "name": "stdout",
     "output_type": "stream",
     "text": [
      "최적의 하이퍼파라미터: {'max_depth': 2, 'max_features': 2, 'n_estimators': 10}\n",
      "최적의 하이퍼파라미터일 때 정확도: 0.97\n"
     ]
    }
   ],
   "source": [
    "# 그리드 서치의 학습 결과를 출력합니다.\n",
    "print('최적의 하이퍼파라미터: {0}'.format(gs.best_params_))\n",
    "print('최적의 하이퍼파라미터일 때 정확도: {0:.2f}'.format(gs.best_score_))\n",
    "\n",
    "# 최적화 모델을 가져옵니다.\n",
    "model = gs.best_estimator_"
   ]
  }
 ],
 "metadata": {
  "kernelspec": {
   "display_name": "Python 3",
   "language": "python",
   "name": "python3"
  },
  "language_info": {
   "codemirror_mode": {
    "name": "ipython",
    "version": 3
   },
   "file_extension": ".py",
   "mimetype": "text/x-python",
   "name": "python",
   "nbconvert_exporter": "python",
   "pygments_lexer": "ipython3",
   "version": "3.6.9"
  }
 },
 "nbformat": 4,
 "nbformat_minor": 5
}
