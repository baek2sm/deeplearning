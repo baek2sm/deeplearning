{
 "cells": [
  {
   "cell_type": "code",
   "execution_count": 1,
   "id": "aae21875",
   "metadata": {},
   "outputs": [],
   "source": [
    "# 실습에 필요한 라이브러리 불러옵니다.\n",
    "from sklearn import datasets\n",
    "from sklearn.model_selection import train_test_split\n",
    "from sklearn.feature_extraction.text import TfidfVectorizer\n",
    "from sklearn.naive_bayes import MultinomialNB"
   ]
  },
  {
   "cell_type": "code",
   "execution_count": 2,
   "id": "d27d8f86",
   "metadata": {},
   "outputs": [],
   "source": [
    "# 사이킷런에서 문서 데이터세트를 가져옵니다.\n",
    "news = datasets.fetch_20newsgroups()"
   ]
  },
  {
   "cell_type": "code",
   "execution_count": 3,
   "id": "594bcc1b",
   "metadata": {},
   "outputs": [
    {
     "name": "stdout",
     "output_type": "stream",
     "text": [
      "From: clay@rsd.dl.nec.com (Clay Finley)\n",
      "Subject: Re: Carrying Arms\n",
      "Nntp-Posting-Host: rsd21.rsd.dl.nec.com\n",
      "Organization: NEC America, Radio Software Dept\n",
      "Distribution: usa\n",
      "Lines: 22\n",
      "\n",
      "|> In article <1993Apr5.220457.6800@spdc.ti.com> dwhite@epcot.spdc.ti.com (Dan White) writes:\n",
      "|> \n",
      "|> >However, haven't we already lost our right to bear arms?\n",
      "|> \n",
      "|> >\tIt seems that in most states, like Texas, a citizen may own a\n",
      "|> >gun and carry while at his home or business.  But a citizen is severely\n",
      "|> >restricted from bearing outside these areas.  Here in Texas you cannot\n",
      "|> >carry in your car except when \"traveling\" which is usually defined as\n",
      "|> >\"traveling across a county line.\"  How did this come about?  Are there\n",
      "|> >any court rulings on the legality of restricting the carrying of a\n",
      "|> >weapon outside the home?  \n",
      "|> \n",
      "\n",
      "In Texas, it is legal to carry handguns while \"traveling\", and also to and from\n",
      "sporting activities.           ^^^^^^^^\n",
      "\n",
      "Chapter 46 of the Texas State Penal Code does NOT restrict long guns.\n",
      "Therefore, it is legal to carry and transport long guns any place in Texas.\n",
      "\n",
      "Regards,\n",
      "Clay\n",
      "\n",
      "\n"
     ]
    }
   ],
   "source": [
    "# 입력 데이터와 타깃을 준비합니다.\n",
    "X, y = news.data, news.target\n",
    "\n",
    "# 데이터세트를 학습 세트와 테스트 세트로 분할합니다.\n",
    "X_train, X_test, y_train, y_test = train_test_split(X, y, random_state=1)\n",
    "\n",
    "# 학습 세트의 첫 번째 입력 데이터를 확인해봅니다.\n",
    "print(X_train[0])"
   ]
  },
  {
   "cell_type": "code",
   "execution_count": 4,
   "id": "57d67af5",
   "metadata": {},
   "outputs": [],
   "source": [
    "# 텍스트 데이터를 TF-IDF 벡터값으로 변환합니다.\n",
    "vectorizer = TfidfVectorizer()\n",
    "X_train_vec = vectorizer.fit_transform(X_train)\n",
    "X_test_vec = vectorizer.transform(X_test)"
   ]
  },
  {
   "cell_type": "code",
   "execution_count": 5,
   "id": "8f374c08",
   "metadata": {},
   "outputs": [
    {
     "data": {
      "text/plain": [
       "MultinomialNB(alpha=0.01)"
      ]
     },
     "execution_count": 5,
     "metadata": {},
     "output_type": "execute_result"
    }
   ],
   "source": [
    "# 나이브 베이즈 다중 분류 모델 객체를 생성합니다.\n",
    "model = MultinomialNB(alpha=0.01)\n",
    "\n",
    "# 나이브 베이즈 분류 모델에 학습 세트의 TF-IDF를 넣고 학습시킵니다.\n",
    "model.fit(X_train_vec, y_train)"
   ]
  },
  {
   "cell_type": "code",
   "execution_count": 6,
   "id": "7f3772b9",
   "metadata": {},
   "outputs": [
    {
     "name": "stdout",
     "output_type": "stream",
     "text": [
      "학습 세트 정확도: 0.997\n",
      "테스트 세트 정확도: 0.911\n"
     ]
    }
   ],
   "source": [
    "# 학습 세트에서의 정확도와 테스트 세트에서의 정확도를 계산합니다.\n",
    "train_score = model.score(X_train_vec, y_train)\n",
    "test_score = model.score(X_test_vec, y_test)\n",
    "\n",
    "# 학습 세트에서의 정확도와 테스트 세트에서의 정확도를 출력합니다.\n",
    "print('학습 세트 정확도: {:.3f}'.format(train_score))\n",
    "print('테스트 세트 정확도: {:.3f}'.format(test_score))"
   ]
  }
 ],
 "metadata": {
  "kernelspec": {
   "display_name": "Python 3",
   "language": "python",
   "name": "python3"
  },
  "language_info": {
   "codemirror_mode": {
    "name": "ipython",
    "version": 3
   },
   "file_extension": ".py",
   "mimetype": "text/x-python",
   "name": "python",
   "nbconvert_exporter": "python",
   "pygments_lexer": "ipython3",
   "version": "3.6.9"
  }
 },
 "nbformat": 4,
 "nbformat_minor": 5
}
