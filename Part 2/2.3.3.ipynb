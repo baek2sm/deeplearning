{
 "cells": [
  {
   "cell_type": "code",
   "execution_count": 1,
   "id": "3555df5d",
   "metadata": {},
   "outputs": [],
   "source": [
    "# 실습에 필요한 라이브러리를 불러옵니다.\n",
    "from sklearn import datasets\n",
    "from sklearn.preprocessing import RobustScaler\n",
    "from sklearn.model_selection import train_test_split\n",
    "from sklearn.svm import SVC\n",
    "from sklearn.pipeline import Pipeline"
   ]
  },
  {
   "cell_type": "code",
   "execution_count": 2,
   "id": "3f9aed62",
   "metadata": {},
   "outputs": [],
   "source": [
    "# 사이킷런에서 붓꽃 품종 데이터세트를 가져옵니다.\n",
    "dataset = datasets.load_iris()\n",
    "\n",
    "# 입력 데이터와 타깃을 준비합니다.\n",
    "X, y = dataset.data, dataset.target\n",
    "\n",
    "# 데이터세트를 학습 세트와 테스트 세트로 분할합니다.\n",
    "X_train, X_test, y_train, y_test = train_test_split(X, y, random_state=0)"
   ]
  },
  {
   "cell_type": "code",
   "execution_count": 3,
   "id": "e8d2e59a",
   "metadata": {},
   "outputs": [],
   "source": [
    "# 로버스트 스케일러와 서포트 벡터 머신을 한 번에 실행하는 파이프라인 객체를 생성합니다.\n",
    "pipe = Pipeline([('scaler', RobustScaler()),\n",
    "                 ('estimator', SVC(kernel='rbf', gamma=1.0, C=1.0))])"
   ]
  },
  {
   "cell_type": "code",
   "execution_count": 4,
   "id": "f13576f9",
   "metadata": {},
   "outputs": [
    {
     "data": {
      "text/plain": [
       "Pipeline(steps=[('scaler', RobustScaler()), ('estimator', SVC(gamma=1.0))])"
      ]
     },
     "execution_count": 4,
     "metadata": {},
     "output_type": "execute_result"
    }
   ],
   "source": [
    "# 파이프라인에 입력 데이터와 타깃을 입력하고 학습시킵니다.\n",
    "pipe.fit(X_train, y_train)"
   ]
  },
  {
   "cell_type": "code",
   "execution_count": 5,
   "id": "56a7fa1d",
   "metadata": {},
   "outputs": [
    {
     "name": "stdout",
     "output_type": "stream",
     "text": [
      "학습 세트 정확도: 0.973\n",
      "테스트 세트 정확도: 0.974\n"
     ]
    }
   ],
   "source": [
    "# 학습 세트에서의 모델 정확도와 테스트 세트에서의 모델 정확도를 계산합니다.\n",
    "train_score = pipe.score(X_train, y_train)\n",
    "test_score = pipe.score(X_test, y_test)\n",
    "\n",
    "# 학습 세트에서의 정확도와 테스트 세트에서의 정확도를 출력합니다.\n",
    "print('학습 세트 정확도: {:.3f}'.format(train_score))\n",
    "print('테스트 세트 정확도: {:.3f}'.format(test_score))"
   ]
  }
 ],
 "metadata": {
  "kernelspec": {
   "display_name": "Python 3",
   "language": "python",
   "name": "python3"
  },
  "language_info": {
   "codemirror_mode": {
    "name": "ipython",
    "version": 3
   },
   "file_extension": ".py",
   "mimetype": "text/x-python",
   "name": "python",
   "nbconvert_exporter": "python",
   "pygments_lexer": "ipython3",
   "version": "3.6.9"
  }
 },
 "nbformat": 4,
 "nbformat_minor": 5
}
