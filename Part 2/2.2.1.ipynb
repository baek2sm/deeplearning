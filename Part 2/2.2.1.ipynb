{
  "nbformat": 4,
  "nbformat_minor": 5,
  "metadata": {
    "kernelspec": {
      "display_name": "Python 3",
      "language": "python",
      "name": "python3"
    },
    "language_info": {
      "codemirror_mode": {
        "name": "ipython",
        "version": 3
      },
      "file_extension": ".py",
      "mimetype": "text/x-python",
      "name": "python",
      "nbconvert_exporter": "python",
      "pygments_lexer": "ipython3",
      "version": "3.6.9"
    },
    "colab": {
      "name": "2.2.1.ipynb",
      "provenance": [],
      "collapsed_sections": []
    }
  },
  "cells": [
    {
      "cell_type": "code",
      "metadata": {
        "id": "3bccd35a"
      },
      "source": [
        "# 실습에 필요한 라이브러리를 불러옵니다.\n",
        "from sklearn import datasets\n",
        "from sklearn.model_selection import train_test_split\n",
        "from sklearn.preprocessing import StandardScaler\n",
        "from sklearn.decomposition import PCA\n",
        "from sklearn.neighbors import KNeighborsRegressor\n",
        "import matplotlib.pyplot as plt"
      ],
      "id": "3bccd35a",
      "execution_count": 1,
      "outputs": []
    },
    {
      "cell_type": "code",
      "metadata": {
        "id": "b58ac426"
      },
      "source": [
        "# 사이킷런에서 보스턴 주택 가격 데이터세트를 가져옵니다.\n",
        "dataset = datasets.load_boston()\n",
        "\n",
        "# 입력 데이터와 타깃을 준비합니다.\n",
        "X, y = dataset['data'], dataset['target']\n",
        "\n",
        "# 데이터세트를 학습 세트와 테스트 세트로 분할합니다.\n",
        "X_train, X_test, y_train, y_test = train_test_split(X, y, random_state=1)\n",
        "\n",
        "# 데이터 범위 조정을 위해 표준화를 적용합니다.\n",
        "scaler = StandardScaler()\n",
        "X_train_std = scaler.fit_transform(X_train)\n",
        "X_test_std = scaler.transform(X_test)"
      ],
      "id": "b58ac426",
      "execution_count": 2,
      "outputs": []
    },
    {
      "cell_type": "code",
      "metadata": {
        "colab": {
          "base_uri": "https://localhost:8080/"
        },
        "id": "a2b59bb3",
        "outputId": "ef1ee271-81cf-4b6d-a406-0edbcef9f795"
      },
      "source": [
        "# 주성분 분석(PCA) 특성 추출 기법을 적용합니다.\n",
        "pca = PCA(n_components=0.96)\n",
        "X_train_pca = pca.fit_transform(X_train_std)\n",
        "X_test_pca = pca.transform(X_test_std)\n",
        "print('원본 입력 데이터의 특성 개수: {}'.format(len(X_train[0])))\n",
        "print('주성분 분석이 적용된 입력 데이터의 특성 개수: {}'.format(len(X_train_pca[0])))"
      ],
      "id": "a2b59bb3",
      "execution_count": 3,
      "outputs": [
        {
          "output_type": "stream",
          "text": [
            "원본 입력 데이터의 특성 개수: 13\n",
            "주성분 분석이 적용된 입력 데이터의 특성 개수: 10\n"
          ],
          "name": "stdout"
        }
      ]
    },
    {
      "cell_type": "code",
      "metadata": {
        "colab": {
          "base_uri": "https://localhost:8080/"
        },
        "id": "168ea985",
        "outputId": "a1ab47e0-1333-4104-d4cf-6af5df65e466"
      },
      "source": [
        "# K-최근접 이웃 모델 객체를 만듭니다.\n",
        "model = KNeighborsRegressor(n_neighbors=5)\n",
        "\n",
        "# K-최근접 이웃 모델에 학습 세트의 입력 데이터와 타깃을 넣고 학습시킵니다.\n",
        "model.fit(X_train_pca, y_train)\n",
        "\n",
        "# 학습 세트에서의 R^2 점수와 테스트 세트에서의 R^2 점수를 계산합니다.\n",
        "train_score = model.score(X_train_pca, y_train)\n",
        "test_score = model.score(X_test_pca, y_test)\n",
        "\n",
        "# 학습 세트에서의 R^2 점수와 테스트 세트에서의 R^2 점수를 출력합니다.\n",
        "print('학습 세트 R^2 점수: {score:.3f}'.format(score=train_score))\n",
        "print('테스트 세트 R^2 점수: {score:.3f}'.format(score=test_score))"
      ],
      "id": "168ea985",
      "execution_count": 4,
      "outputs": [
        {
          "output_type": "stream",
          "text": [
            "학습 세트 R^2 점수: 0.821\n",
            "테스트 세트 R^2 점수: 0.806\n"
          ],
          "name": "stdout"
        }
      ]
    }
  ]
}