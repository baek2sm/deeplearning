{
 "cells": [
  {
   "cell_type": "code",
   "execution_count": 1,
   "id": "3bccd35a",
   "metadata": {},
   "outputs": [],
   "source": [
    "# 실습에 필요한 라이브러리를 불러옵니다.\n",
    "from sklearn import datasets\n",
    "from sklearn.model_selection import train_test_split\n",
    "from sklearn.preprocessing import StandardScaler\n",
    "from sklearn.decomposition import PCA\n",
    "from sklearn.neighbors import KNeighborsRegressor\n",
    "import matplotlib.pyplot as plt"
   ]
  },
  {
   "cell_type": "code",
   "execution_count": 2,
   "id": "b58ac426",
   "metadata": {},
   "outputs": [],
   "source": [
    "# 사이킷런에서 보스턴 주택 가격 데이터세트를 가져옵니다.\n",
    "dataset = datasets.load_boston()\n",
    "\n",
    "# 입력 데이터와 타깃을 준비합니다.\n",
    "X, y = dataset['data'], dataset['target']\n",
    "\n",
    "# 데이터세트를 학습 세트와 테스트 세트로 분할합니다.\n",
    "X_train, X_test, y_train, y_test = train_test_split(X, y, random_state=1)\n",
    "\n",
    "# 데이터 범위 조정을 위해 표준화를 적용합니다.\n",
    "scaler = StandardScaler()\n",
    "X_train_std = scaler.fit_transform(X_train)\n",
    "X_test_std = scaler.transform(X_test)"
   ]
  },
  {
   "cell_type": "code",
   "execution_count": 3,
   "id": "a2b59bb3",
   "metadata": {},
   "outputs": [
    {
     "name": "stdout",
     "output_type": "stream",
     "text": [
      "원본 입력 데이터의 특성 개수: 13\n",
      "주성분 분석이 적용된 입력 데이터의 특성 개수: 12\n"
     ]
    }
   ],
   "source": [
    "# 주성분 분석(PCA) 특성 추출 기법을 적용합니다.\n",
    "pca = PCA(n_components=0.99)\n",
    "X_train_pca = pca.fit_transform(X_train_std)\n",
    "X_test_pca = pca.transform(X_test_std)\n",
    "print('원본 입력 데이터의 특성 개수: {}'.format(len(X_train[0])))\n",
    "print('주성분 분석이 적용된 입력 데이터의 특성 개수: {}'.format(len(X_train_pca[0])))"
   ]
  },
  {
   "cell_type": "code",
   "execution_count": 4,
   "id": "168ea985",
   "metadata": {},
   "outputs": [
    {
     "name": "stdout",
     "output_type": "stream",
     "text": [
      "학습 세트 R^2 점수: 0.826\n",
      "테스트 세트 R^2 점수: 0.806\n"
     ]
    }
   ],
   "source": [
    "# K-최근접 이웃 모델 객체를 만듭니다.\n",
    "model = KNeighborsRegressor(n_neighbors=5)\n",
    "\n",
    "# K-최근접 이웃 모델에 학습 세트의 입력 데이터와 타깃을 넣고 학습시킵니다.\n",
    "model.fit(X_train_pca, y_train)\n",
    "\n",
    "# 학습 세트에서의 R^2 점수와 테스트 세트에서의 R^2 점수를 계산합니다.\n",
    "train_score = model.score(X_train_pca, y_train)\n",
    "test_score = model.score(X_test_pca, y_test)\n",
    "\n",
    "# 학습 세트에서의 R^2 점수와 테스트 세트에서의 R^2 점수를 출력합니다.\n",
    "print('학습 세트 R^2 점수: {score:.3f}'.format(score=train_score))\n",
    "print('테스트 세트 R^2 점수: {score:.3f}'.format(score=test_score))"
   ]
  }
 ],
 "metadata": {
  "kernelspec": {
   "display_name": "Python 3",
   "language": "python",
   "name": "python3"
  },
  "language_info": {
   "codemirror_mode": {
    "name": "ipython",
    "version": 3
   },
   "file_extension": ".py",
   "mimetype": "text/x-python",
   "name": "python",
   "nbconvert_exporter": "python",
   "pygments_lexer": "ipython3",
   "version": "3.6.9"
  }
 },
 "nbformat": 4,
 "nbformat_minor": 5
}
