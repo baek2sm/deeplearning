{
 "cells": [
  {
   "cell_type": "code",
   "execution_count": null,
   "id": "38bc4e9d",
   "metadata": {},
   "outputs": [],
   "source": [
    "# 실습에 필요한 라이브러리를 불러옵니다.\n",
    "from sklearn.linear_model import LogisticRegression\n",
    "import numpy as np"
   ]
  },
  {
   "cell_type": "code",
   "execution_count": null,
   "id": "9ab3afbd",
   "metadata": {},
   "outputs": [],
   "source": [
    "# 시험 점수와 합격 여부 데이터를 준비합니다.\n",
    "X = np.array([[35], [50], [60], [65], [70], [85], [95]])\n",
    "y = np.array([0, 0, 0, 0, 1, 1, 1])"
   ]
  },
  {
   "cell_type": "code",
   "execution_count": null,
   "id": "483b420d",
   "metadata": {},
   "outputs": [],
   "source": [
    "# 로지스틱 회귀 객체를 생성하고 모델을 학습시킵니다.\n",
    "model = LogisticRegression()\n",
    "model.fit(X, y)"
   ]
  },
  {
   "cell_type": "code",
   "execution_count": null,
   "id": "c82a9ab2",
   "metadata": {},
   "outputs": [],
   "source": [
    "# 학습된 모델을 이용해 타깃을 추론하고 결과를 확인합니다.\n",
    "y_predicted = model.predict(X)\n",
    "print(y_predicted)"
   ]
  },
  {
   "cell_type": "code",
   "execution_count": null,
   "id": "1063c5c3",
   "metadata": {},
   "outputs": [],
   "source": [
    "# 테스트에 사용할 데이터를 준비합니다.\n",
    "X_test = np.array([[45], [55], [75]])\n",
    "\n",
    "# 테스트 데이터의 타깃을 추론하고 결과를 확인합니다.\n",
    "y_test_predicted = model.predict(X_test)\n",
    "print(y_test_predicted)"
   ]
  }
 ],
 "metadata": {
  "kernelspec": {
   "display_name": "Python 3",
   "language": "python",
   "name": "python3"
  },
  "language_info": {
   "codemirror_mode": {
    "name": "ipython",
    "version": 3
   },
   "file_extension": ".py",
   "mimetype": "text/x-python",
   "name": "python",
   "nbconvert_exporter": "python",
   "pygments_lexer": "ipython3",
   "version": "3.6.9"
  }
 },
 "nbformat": 4,
 "nbformat_minor": 5
}
