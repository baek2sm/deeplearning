{
 "cells": [
  {
   "cell_type": "code",
   "execution_count": 1,
   "id": "423151e5",
   "metadata": {},
   "outputs": [],
   "source": [
    "# 실습에 필요한 라이브러리를 불러옵니다.\n",
    "from sklearn import datasets\n",
    "from sklearn.model_selection import train_test_split\n",
    "from sklearn.ensemble import RandomForestClassifier, VotingClassifier\n",
    "from sklearn.neighbors import KNeighborsClassifier\n",
    "from sklearn.svm import SVC"
   ]
  },
  {
   "cell_type": "code",
   "execution_count": 2,
   "id": "fb9c7a05",
   "metadata": {},
   "outputs": [],
   "source": [
    "# 사이킷런에서 붓꽃 품종 데이터세트를 불러옵니다.\n",
    "dataset = datasets.load_iris()\n",
    "\n",
    "# 입력 데이터와 타깃을 준비합니다.\n",
    "X, y = dataset['data'], dataset['target']\n",
    "\n",
    "# 데이터세트를 학습 세트와 테스트 세트로 분할합니다.\n",
    "X_train, X_test, y_train, y_test = train_test_split(X, y, random_state=1)"
   ]
  },
  {
   "cell_type": "code",
   "execution_count": 3,
   "id": "4ae03b79",
   "metadata": {},
   "outputs": [],
   "source": [
    "# 앙상블 할 모델들의 객체를 준비합니다.\n",
    "estimator_list = [('rf', RandomForestClassifier(n_estimators=50, max_depth=5)),\n",
    "                  ('knn', KNeighborsClassifier(n_neighbors=5)),\n",
    "                  ('svm', SVC(C=1, gamma=1))]"
   ]
  },
  {
   "cell_type": "code",
   "execution_count": 4,
   "id": "d4eec2ce",
   "metadata": {},
   "outputs": [
    {
     "data": {
      "text/plain": [
       "VotingClassifier(estimators=[('rf',\n",
       "                              RandomForestClassifier(max_depth=5,\n",
       "                                                     n_estimators=50)),\n",
       "                             ('knn', KNeighborsClassifier()),\n",
       "                             ('svm', SVC(C=1, gamma=1))])"
      ]
     },
     "execution_count": 4,
     "metadata": {},
     "output_type": "execute_result"
    }
   ],
   "source": [
    "# 앙상블 모델의 객체를 생성합니다.\n",
    "ensemble = VotingClassifier(estimators=estimator_list)\n",
    "\n",
    "# 앙상블 모델을 학습시킵니다.\n",
    "ensemble.fit(X, y)"
   ]
  },
  {
   "cell_type": "code",
   "execution_count": 5,
   "id": "81c1c587",
   "metadata": {},
   "outputs": [
    {
     "name": "stdout",
     "output_type": "stream",
     "text": [
      "학습 세트 정확도: 0.982\n",
      "테스트 세트 정확도: 1.000\n"
     ]
    }
   ],
   "source": [
    "# 학습 세트에서의 정확도와 테스트 세트에서의 정확도를 계산합니다.\n",
    "train_score = ensemble.score(X_train, y_train)\n",
    "test_score = ensemble.score(X_test, y_test)\n",
    "\n",
    "# 학습 세트에서의 정확도와 테스트 세트에서의 정확도를 출력합니다.\n",
    "print('학습 세트 정확도: {score:.3f}'.format(score=train_score))\n",
    "print('테스트 세트 정확도: {score:.3f}'.format(score=test_score))"
   ]
  }
 ],
 "metadata": {
  "kernelspec": {
   "display_name": "Python 3",
   "language": "python",
   "name": "python3"
  },
  "language_info": {
   "codemirror_mode": {
    "name": "ipython",
    "version": 3
   },
   "file_extension": ".py",
   "mimetype": "text/x-python",
   "name": "python",
   "nbconvert_exporter": "python",
   "pygments_lexer": "ipython3",
   "version": "3.6.9"
  }
 },
 "nbformat": 4,
 "nbformat_minor": 5
}
