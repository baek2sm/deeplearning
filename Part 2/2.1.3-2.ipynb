{
 "cells": [
  {
   "cell_type": "code",
   "execution_count": 1,
   "id": "0945aa3b",
   "metadata": {},
   "outputs": [],
   "source": [
    "# 실습에 필요한 라이브러리를 불러옵니다.\n",
    "from sklearn import datasets\n",
    "from sklearn.preprocessing import StandardScaler\n",
    "from sklearn.model_selection import train_test_split\n",
    "from sklearn.linear_model import LogisticRegression"
   ]
  },
  {
   "cell_type": "code",
   "execution_count": 2,
   "id": "f33604ae",
   "metadata": {},
   "outputs": [],
   "source": [
    "# 사이킷런에서 유방암 진단 데이터세트를 불러옵니다.\n",
    "dataset = datasets.load_breast_cancer()\n",
    "\n",
    "# 입력 데이터와 타깃을 준비합니다.\n",
    "X, y = dataset['data'], dataset['target']\n",
    "\n",
    "# 데이터세트를 학습 세트와 테스트 세트로 분할합니다.\n",
    "X_train, X_test, y_train, y_test = train_test_split(X, y, random_state=1)"
   ]
  },
  {
   "cell_type": "code",
   "execution_count": 3,
   "id": "3504bcb7",
   "metadata": {},
   "outputs": [],
   "source": [
    "# 데이터 범위 조정을 위해 표준화를 적용합니다.\n",
    "scaler = StandardScaler()\n",
    "X_train_std = scaler.fit_transform(X_train)\n",
    "X_test_std = scaler.transform(X_test)"
   ]
  },
  {
   "cell_type": "code",
   "execution_count": 4,
   "id": "d17ede22",
   "metadata": {},
   "outputs": [
    {
     "data": {
      "text/plain": [
       "LogisticRegression()"
      ]
     },
     "execution_count": 4,
     "metadata": {},
     "output_type": "execute_result"
    }
   ],
   "source": [
    "# 로지스틱 회귀 모델 객체를 만듭니다.\n",
    "model = LogisticRegression()\n",
    "\n",
    "# 로지스틱 회귀 모델에 학습 세트의 입력 데이터와 타깃을 넣고 학습시킵니다.\n",
    "model.fit(X_train_std, y_train)"
   ]
  },
  {
   "cell_type": "code",
   "execution_count": 5,
   "id": "e1db4876",
   "metadata": {},
   "outputs": [
    {
     "name": "stdout",
     "output_type": "stream",
     "text": [
      "학습 세트 정확도: 0.991\n",
      "테스트 세트 정확도: 0.979\n"
     ]
    }
   ],
   "source": [
    "# 학습 세트에서의 정확도와 테스트 세트에서의 정확도를 계산합니다.\n",
    "train_score = model.score(X_train_std, y_train)\n",
    "test_score = model.score(X_test_std, y_test)\n",
    "\n",
    "# 학습 세트에서의 정확도와 테스트 세트에서의 정확도를 출력합니다.\n",
    "print('학습 세트 정확도: {:.3f}'.format(train_score))\n",
    "print('테스트 세트 정확도: {:.3f}'.format(test_score))"
   ]
  }
 ],
 "metadata": {
  "kernelspec": {
   "display_name": "Python 3",
   "language": "python",
   "name": "python3"
  },
  "language_info": {
   "codemirror_mode": {
    "name": "ipython",
    "version": 3
   },
   "file_extension": ".py",
   "mimetype": "text/x-python",
   "name": "python",
   "nbconvert_exporter": "python",
   "pygments_lexer": "ipython3",
   "version": "3.6.9"
  }
 },
 "nbformat": 4,
 "nbformat_minor": 5
}
