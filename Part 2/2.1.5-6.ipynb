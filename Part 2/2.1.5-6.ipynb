{
 "cells": [
  {
   "cell_type": "code",
   "execution_count": 1,
   "id": "242e9dce",
   "metadata": {},
   "outputs": [],
   "source": [
    "# 실습에 필요한 라이브러리를 불러옵니다.\n",
    "from sklearn import datasets\n",
    "from sklearn.model_selection import train_test_split\n",
    "from sklearn.ensemble import GradientBoostingClassifier"
   ]
  },
  {
   "cell_type": "code",
   "execution_count": 2,
   "id": "abe63e16",
   "metadata": {},
   "outputs": [
    {
     "data": {
      "text/plain": [
       "GradientBoostingClassifier(n_estimators=50)"
      ]
     },
     "execution_count": 2,
     "metadata": {},
     "output_type": "execute_result"
    }
   ],
   "source": [
    "# 사이킷런에서 붓꽃 품종 데이터세트를 가져옵니다.\n",
    "dataset = datasets.load_iris()\n",
    "\n",
    "# 입력 데이터와 타깃을 준비합니다.\n",
    "X, y = dataset['data'], dataset['target']\n",
    "\n",
    "# 데이터세트를 학습 세트와 테스트 세트로 분할합니다.\n",
    "X_train, X_test, y_train, y_test = train_test_split(X, y, random_state=0)\n",
    "\n",
    "# 그레이디언트 부스팅 모델 객체를 만듭니다.\n",
    "model = GradientBoostingClassifier(n_estimators=50, max_depth=3)\n",
    "\n",
    "# 결정 트리 모델에 학습 세트의 입력 데이터와 타깃을 넣고 학습시킵니다.\n",
    "model.fit(X_train, y_train)"
   ]
  },
  {
   "cell_type": "code",
   "execution_count": 3,
   "id": "ff82c944",
   "metadata": {},
   "outputs": [
    {
     "name": "stdout",
     "output_type": "stream",
     "text": [
      "학습 세트 정확도: 1.000\n",
      "테스트 세트 정확도: 0.974\n"
     ]
    }
   ],
   "source": [
    "# 학습 세트에서의 모델 정확도와 테스트 세트에서의 모델 정확도를 계산합니다.\n",
    "train_score = model.score(X_train, y_train)\n",
    "test_score = model.score(X_test, y_test)\n",
    "\n",
    "# 학습 세트에서의 정확도와 테스트 세트에서의 정확도를 출력합니다.\n",
    "print('학습 세트 정확도: {:.3f}'.format(train_score))\n",
    "print('테스트 세트 정확도: {:.3f}'.format(test_score))"
   ]
  }
 ],
 "metadata": {
  "kernelspec": {
   "display_name": "Python 3",
   "language": "python",
   "name": "python3"
  },
  "language_info": {
   "codemirror_mode": {
    "name": "ipython",
    "version": 3
   },
   "file_extension": ".py",
   "mimetype": "text/x-python",
   "name": "python",
   "nbconvert_exporter": "python",
   "pygments_lexer": "ipython3",
   "version": "3.6.9"
  }
 },
 "nbformat": 4,
 "nbformat_minor": 5
}
