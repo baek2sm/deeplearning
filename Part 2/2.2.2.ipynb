{
 "cells": [
  {
   "cell_type": "code",
   "execution_count": 1,
   "id": "94a2902c",
   "metadata": {},
   "outputs": [],
   "source": [
    "# 실습에 필요한 라이브러리를 불러옵니다.\n",
    "from sklearn.cluster import KMeans\n",
    "import numpy as np\n",
    "import matplotlib.pyplot as plt"
   ]
  },
  {
   "cell_type": "code",
   "execution_count": 2,
   "id": "5d8bb946",
   "metadata": {},
   "outputs": [],
   "source": [
    "# 3개의 클러스터로 분류할 임의의 데이터세트를 만듭니다.\n",
    "X = np.array([[1.2, 1.3], [1.1, 1.0], [0.8, 1.1],\n",
    "              [4.5, 4.4], [4.0, 4.5], [4.8, 3.9],\n",
    "              [9.9, 9.8], [8.9, 9.5], [9.2, 9.1]])"
   ]
  },
  {
   "cell_type": "code",
   "execution_count": 3,
   "id": "ee3e90ee",
   "metadata": {},
   "outputs": [
    {
     "data": {
      "text/plain": [
       "KMeans(n_clusters=3, random_state=0)"
      ]
     },
     "execution_count": 3,
     "metadata": {},
     "output_type": "execute_result"
    }
   ],
   "source": [
    "# K-평균 클러스터링 알고리즘을 이용해 모델을 학습시킵니다.\n",
    "model = KMeans(n_clusters=3, random_state=0)\n",
    "model.fit(X)"
   ]
  },
  {
   "cell_type": "code",
   "execution_count": 4,
   "id": "036aa9c8",
   "metadata": {},
   "outputs": [
    {
     "name": "stdout",
     "output_type": "stream",
     "text": [
      "[2 2 2 0 0 0 1 1 1]\n"
     ]
    }
   ],
   "source": [
    "# 데이터 샘플들이 각각 어떤 클러스터로 분류되었는지 확인합니다.\n",
    "print(model.labels_)"
   ]
  },
  {
   "cell_type": "code",
   "execution_count": 5,
   "id": "0ad545be",
   "metadata": {},
   "outputs": [
    {
     "data": {
      "image/png": "[encoded data removed]",
      "text/plain": [
       "<Figure size 432x288 with 1 Axes>"
      ]
     },
     "metadata": {
      "needs_background": "light"
     },
     "output_type": "display_data"
    }
   ],
   "source": [
    "# 데이터 분포를 시각화하기 위해 산점도 그래프를 그립니다.\n",
    "plt.scatter(X[:, 0], X[:, 1], c=model.labels_, cmap='brg')\n",
    "plt.show()"
   ]
  },
  {
   "cell_type": "code",
   "execution_count": 6,
   "id": "cfb1675b",
   "metadata": {},
   "outputs": [
    {
     "data": {
      "image/png": "[encoded data removed]",
      "text/plain": [
       "<Figure size 432x288 with 1 Axes>"
      ]
     },
     "metadata": {
      "needs_background": "light"
     },
     "output_type": "display_data"
    }
   ],
   "source": [
    "# 새로운 데이터 샘플을 추가합니다.\n",
    "X_test = np.array([[4.4, 4.0], [8.9, 7.8]])\n",
    "\n",
    "# 데이터 분포를 시각화하기 위해 산점도 그래프를 그립니다.\n",
    "plt.scatter(X[:, 0], X[:, 1], c=model.labels_, cmap='brg')\n",
    "plt.scatter(X_test[:, 0], X_test[:, 1], color='orange')\n",
    "plt.show()\n"
   ]
  },
  {
   "cell_type": "code",
   "execution_count": 7,
   "id": "eec97c43",
   "metadata": {},
   "outputs": [
    {
     "name": "stdout",
     "output_type": "stream",
     "text": [
      "새로운 데이터 샘플이 속하는 클러스터 추론: [0 1]\n"
     ]
    }
   ],
   "source": [
    "# 새로운 데이터 샘플에 대한 추론을 실행하고 결과를 확인합니다.\n",
    "result = model.predict(X_test)\n",
    "print('새로운 데이터 샘플이 속하는 클러스터 추론: {}'.format(result))"
   ]
  }
 ],
 "metadata": {
  "kernelspec": {
   "display_name": "Python 3",
   "language": "python",
   "name": "python3"
  },
  "language_info": {
   "codemirror_mode": {
    "name": "ipython",
    "version": 3
   },
   "file_extension": ".py",
   "mimetype": "text/x-python",
   "name": "python",
   "nbconvert_exporter": "python",
   "pygments_lexer": "ipython3",
   "version": "3.6.9"
  }
 },
 "nbformat": 4,
 "nbformat_minor": 5
}
